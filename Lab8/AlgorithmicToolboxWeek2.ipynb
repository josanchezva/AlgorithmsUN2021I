{
  "nbformat": 4,
  "nbformat_minor": 0,
  "metadata": {
    "orig_nbformat": 2,
    "deepnote": {
      "is_reactive": false
    },
    "deepnote_notebook_id": "17763e72-d359-4916-971a-9af3bd4d1d99",
    "deepnote_execution_queue": [],
    "colab": {
      "name": "AlgorithmicToolboxWeek2.ipynb",
      "provenance": []
    }
  },
  "cells": [
    {
      "cell_type": "markdown",
      "metadata": {
        "tags": [],
        "cell_id": "00001-2586fda7-c000-4753-8b16-12573058ab2a",
        "deepnote_cell_type": "markdown",
        "id": "8LWPAqMIppWE"
      },
      "source": [
        ""
      ]
    },
    {
      "cell_type": "markdown",
      "metadata": {
        "tags": [],
        "cell_id": "00001-9a184d5c-265c-41c6-96b9-08371942ec00",
        "deepnote_cell_type": "markdown",
        "id": "Ih6XBBKgppWF"
      },
      "source": [
        "# Algorithmic Toolbox Week 2"
      ]
    },
    {
      "cell_type": "markdown",
      "metadata": {
        "tags": [],
        "cell_id": "00002-7fa03766-fcbb-42d1-a3a7-65c26a501147",
        "deepnote_cell_type": "markdown",
        "id": "a-0Az_KZppWF"
      },
      "source": [
        "## 1. Fibonacci Number"
      ]
    },
    {
      "cell_type": "markdown",
      "metadata": {
        "tags": [],
        "cell_id": "00003-ab0efe81-097f-4504-8b25-afef18943a99",
        "deepnote_cell_type": "text-cell-p",
        "id": "SIjrHA0eppWF"
      },
      "source": [
        "Sin optimizar:"
      ]
    },
    {
      "cell_type": "code",
      "metadata": {
        "tags": [],
        "cell_id": "00004-0b0c8de2-ebd4-40c8-b231-4b8e48a0c965",
        "deepnote_to_be_reexecuted": false,
        "source_hash": "cb11548a",
        "execution_start": 1626223531463,
        "execution_millis": 10,
        "deepnote_cell_type": "code",
        "id": "Ly2ZSIYIppWF",
        "outputId": "fc3cacd5-44c9-41b4-8802-5e3015c664e9"
      },
      "source": [
        "# Uses python3\n",
        "def calc_fib(n):\n",
        "    \n",
        "    if (n <= 1):\n",
        "        return n\n",
        "    return calc_fib(n - 1) + calc_fib(n - 2)\n",
        "\n",
        "n = 10\n",
        "print(calc_fib(n))"
      ],
      "execution_count": null,
      "outputs": [
        {
          "output_type": "stream",
          "text": [
            "55\n"
          ],
          "name": "stdout"
        }
      ]
    },
    {
      "cell_type": "markdown",
      "metadata": {
        "tags": [],
        "cell_id": "00005-c62d7e47-1bc5-48fe-9a37-a9347db98eb5",
        "deepnote_cell_type": "text-cell-p",
        "id": "53fxcxzfppWG"
      },
      "source": [
        "Optimizado:"
      ]
    },
    {
      "cell_type": "code",
      "metadata": {
        "tags": [],
        "cell_id": "00006-73aa95fe-4d6b-4472-9fa7-14963a3ba2ca",
        "deepnote_to_be_reexecuted": false,
        "source_hash": "4826614a",
        "execution_start": 1626224055722,
        "execution_millis": 1,
        "deepnote_cell_type": "code",
        "id": "780hIxgeppWG",
        "outputId": "ea19376d-d831-4757-f9c9-36535ea4a5e9"
      },
      "source": [
        "# Uses python3\n",
        "import sys\n",
        "\n",
        "\n",
        "def calc_fib(n):\n",
        "\n",
        "    previous = 0\n",
        "    current  = 1\n",
        "\n",
        "    for _ in range(n - 1):\n",
        "        previous, current = current, previous + current\n",
        "\n",
        "        return current\n",
        "\n",
        "def fib_to(n):\n",
        "    fibs = [0, 1]\n",
        "    for i in range(2, n+1):\n",
        "        fibs.append(fibs[-1] + fibs[-2])\n",
        "    return fibs\n",
        "\n",
        "if __name__ == '__main__':\n",
        "    input = sys.stdin.read()\n",
        "    n=input\n",
        "    #n = 69\n",
        "    #print(calc_fib(n))\n",
        "    if n == 0:\n",
        "        print(0)\n",
        "    elif n == 1:\n",
        "        print(1)\n",
        "    else:\n",
        "        print(fib_to(n)[-1])"
      ],
      "execution_count": null,
      "outputs": [
        {
          "output_type": "stream",
          "text": [
            "117669030460994\n"
          ],
          "name": "stdout"
        }
      ]
    },
    {
      "cell_type": "markdown",
      "metadata": {
        "tags": [],
        "cell_id": "00003-d2c3c6fd-4776-467b-bd1e-0efdc8e11071",
        "deepnote_cell_type": "markdown",
        "id": "LabwX6ikppWG"
      },
      "source": [
        "## 2. Last Digit Fibonacci Number"
      ]
    },
    {
      "cell_type": "markdown",
      "metadata": {
        "tags": [],
        "cell_id": "00007-3d22dae1-0360-42b5-99a0-1dfef07fd21b",
        "deepnote_cell_type": "text-cell-p",
        "id": "Bn9UzXphppWH"
      },
      "source": [
        "Sin optimizar:"
      ]
    },
    {
      "cell_type": "code",
      "metadata": {
        "tags": [],
        "cell_id": "00003-db701166-949c-4d3b-a333-6355c3d2382c",
        "deepnote_to_be_reexecuted": false,
        "source_hash": "cf78e713",
        "execution_start": 1626226881033,
        "execution_millis": 20673,
        "deepnote_cell_type": "code",
        "id": "yv2Q8SZmppWH",
        "outputId": "aa1c6db6-0baf-455c-c961-1fd8ec3e7f81"
      },
      "source": [
        "# Uses python3\n",
        "\n",
        "def get_fibonacci_last_digit_naive(n):\n",
        "    if n <= 1:\n",
        "        return n\n",
        "\n",
        "    previous = 0\n",
        "    current  = 1\n",
        "\n",
        "    for _ in range(n - 1):\n",
        "        previous, current = current, previous + current\n",
        "\n",
        "    return current % 10\n",
        "\n",
        "if __name__ == '__main__':\n",
        "    n = 999999\n",
        "    print(get_fibonacci_last_digit_naive(n))"
      ],
      "execution_count": null,
      "outputs": [
        {
          "output_type": "stream",
          "text": [
            "6\n"
          ],
          "name": "stdout"
        }
      ]
    },
    {
      "cell_type": "markdown",
      "metadata": {
        "tags": [],
        "cell_id": "00010-7bb70493-7aef-4ebb-aaae-6c454a476802",
        "deepnote_cell_type": "markdown",
        "id": "2IrbXYGBppWH"
      },
      "source": [
        "Optimizado"
      ]
    },
    {
      "cell_type": "code",
      "metadata": {
        "tags": [],
        "cell_id": "00011-a22089c9-8955-47da-abf8-9022b8ccba2c",
        "deepnote_to_be_reexecuted": false,
        "source_hash": "3c6957db",
        "execution_start": 1626226911083,
        "execution_millis": 3,
        "deepnote_cell_type": "code",
        "id": "ihYdu04tppWH",
        "outputId": "71b180b4-0ae0-4fdb-8885-0599a19ba3f8"
      },
      "source": [
        "def get_fibonacci_last_digit_efficient(f, n):\n",
        "    f[0] = 0\n",
        "    f[1] = 1\n",
        "\n",
        "    for i in range(2, n+1):\n",
        "        f[i] = (f[i-1] + f[i-2]) % 10\n",
        "    \n",
        "    return f\n",
        "\n",
        "def lastDigit(n):\n",
        "    f = [0] * 61\n",
        "    f = get_fibonacci_last_digit_efficient(f, 60)\n",
        "\n",
        "    return f[n % 60]\n",
        "\n",
        "if __name__ == '__main__':\n",
        "    #n=int(input())\n",
        "    n = 999999\n",
        "    print(lastDigit(n))"
      ],
      "execution_count": null,
      "outputs": [
        {
          "output_type": "stream",
          "text": [
            "6\n"
          ],
          "name": "stdout"
        }
      ]
    },
    {
      "cell_type": "markdown",
      "metadata": {
        "tags": [],
        "cell_id": "00005-8541b6c8-f398-4c90-887c-4fe44aef7d84",
        "deepnote_cell_type": "markdown",
        "id": "SbhiYieYppWH"
      },
      "source": [
        "## 3. Greatest common divisor"
      ]
    },
    {
      "cell_type": "markdown",
      "metadata": {
        "tags": [],
        "cell_id": "00010-f2f2efa3-f138-4e29-907c-108306a2bfff",
        "deepnote_cell_type": "markdown",
        "id": "zMlWubdsppWH"
      },
      "source": [
        "Sin optimizar"
      ]
    },
    {
      "cell_type": "code",
      "metadata": {
        "tags": [],
        "cell_id": "00006-f3021102-9ad0-466b-9528-7e5357698364",
        "deepnote_cell_type": "code",
        "id": "4XynEmUtppWI"
      },
      "source": [
        "# Uses python3\n",
        "import sys\n",
        "\n",
        "def gcd_naive(a, b):\n",
        "    current_gcd = 1\n",
        "    for d in range(2, min(a, b) + 1):\n",
        "        if a % d == 0 and b % d == 0:\n",
        "            if d > current_gcd:\n",
        "                current_gcd = d\n",
        "    return current_gcd\n",
        "\n",
        "if __name__ == \"__main__\":\n",
        "    input = sys.stdin.read()\n",
        "    a, b = map(int, input.split())\n",
        "    print(gcd_naive(a, b))"
      ],
      "execution_count": null,
      "outputs": []
    },
    {
      "cell_type": "markdown",
      "metadata": {
        "tags": [],
        "cell_id": "00015-2234a1d7-b2d2-4ccf-bc35-6b9f09cd6e83",
        "deepnote_cell_type": "markdown",
        "id": "-J2FBsm5ppWI"
      },
      "source": [
        "Optimizado"
      ]
    },
    {
      "cell_type": "code",
      "metadata": {
        "tags": [],
        "cell_id": "00016-9d9742ae-9109-4c1c-94ad-5cf2d4b69d55",
        "deepnote_to_be_reexecuted": false,
        "source_hash": "ba0f10da",
        "execution_start": 1626228239195,
        "execution_millis": 7351,
        "deepnote_cell_type": "code",
        "id": "WQatV8LZppWI",
        "outputId": "d47aecc3-d008-4d08-ebe6-0b3834ec520b"
      },
      "source": [
        "def computeGCD(a, b): \n",
        "    while(b):\n",
        "        a, b = b, a % b \n",
        "    return a \n",
        "\n",
        "if __name__ == '__main__':\n",
        "    a, b = [int(i) for i in input().split()]\n",
        "    print (computeGCD(a,b)) "
      ],
      "execution_count": null,
      "outputs": [
        {
          "output_type": "stream",
          "text": [
            "2\n"
          ],
          "name": "stdout"
        }
      ]
    },
    {
      "cell_type": "markdown",
      "metadata": {
        "tags": [],
        "cell_id": "00004-2b3c9585-7565-453f-82c1-843fcc1a6e21",
        "deepnote_cell_type": "markdown",
        "id": "xot8YEfYppWI"
      },
      "source": [
        "## 4. Least common multiple"
      ]
    },
    {
      "cell_type": "markdown",
      "metadata": {
        "tags": [],
        "cell_id": "00013-6bd6b9d0-eb05-4c27-a686-d07dc686a4ba",
        "deepnote_cell_type": "markdown",
        "id": "rE9w8sEappWI"
      },
      "source": [
        "Sin optimizar"
      ]
    },
    {
      "cell_type": "code",
      "metadata": {
        "tags": [],
        "cell_id": "00005-353b773a-1073-41e0-be78-6a3df02dcd56",
        "deepnote_to_be_reexecuted": false,
        "source_hash": "2d86e16",
        "execution_start": 1626221891848,
        "execution_millis": 17,
        "deepnote_cell_type": "code",
        "id": "pLqOdP5NppWI",
        "outputId": "dca26457-22f7-494c-c652-0bd8a443c076"
      },
      "source": [
        "# Uses python3\n",
        "import sys\n",
        "\n",
        "def lcm_naive(a, b):\n",
        "    for l in range(1, a*b + 1):\n",
        "        if l % a == 0 and l % b == 0:\n",
        "            return l\n",
        "    return a*b\n",
        "\n",
        "if __name__ == '__main__':\n",
        "    input = sys.stdin.read()\n",
        "    a, b = 30, 40\n",
        "    print(lcm_naive(a, b))"
      ],
      "execution_count": null,
      "outputs": [
        {
          "output_type": "stream",
          "text": [
            "120\n"
          ],
          "name": "stdout"
        }
      ]
    },
    {
      "cell_type": "markdown",
      "metadata": {
        "tags": [],
        "cell_id": "00020-fb1ce032-0255-4d60-8231-873c1cd8a9ad",
        "deepnote_cell_type": "text-cell-p",
        "id": "XlR1fTbeppWI"
      },
      "source": [
        "Optimizado"
      ]
    },
    {
      "cell_type": "code",
      "metadata": {
        "tags": [],
        "cell_id": "00020-db151934-df2d-46ee-b094-eae93995ce30",
        "deepnote_to_be_reexecuted": false,
        "source_hash": "34ce0367",
        "execution_start": 1626226673716,
        "execution_millis": 10,
        "deepnote_cell_type": "code",
        "id": "nLQQi04NppWJ",
        "outputId": "47c22bb9-5973-4da2-df51-e424b9b089da"
      },
      "source": [
        "# Uses python3\n",
        "import sys\n",
        "\n",
        "def lcm_naive(a, b):\n",
        "    \n",
        "    a1=a\n",
        "    b1=b\n",
        "\n",
        "    while( a1 != b1 ):\n",
        "        if( b1 > a1 ):\n",
        "            a1 += a\n",
        "        else:\n",
        "            b1 += b\n",
        "\n",
        "    return b1\n",
        "if __name__ == '__main__':\n",
        "    input = sys.stdin.read()\n",
        "    a, b = 30, 40\n",
        "    print(lcm_naive(a, b))"
      ],
      "execution_count": null,
      "outputs": [
        {
          "output_type": "stream",
          "text": [
            "120\n"
          ],
          "name": "stdout"
        }
      ]
    },
    {
      "cell_type": "markdown",
      "metadata": {
        "tags": [],
        "cell_id": "00006-a2ceab15-125a-4e6c-a369-c3d0f69f92ad",
        "deepnote_cell_type": "markdown",
        "id": "w56sOBqsppWJ"
      },
      "source": [
        "## 5. Fibonacci number again"
      ]
    },
    {
      "cell_type": "markdown",
      "metadata": {
        "tags": [],
        "cell_id": "00016-4ff0a35b-0226-481e-baef-929733a4f2cf",
        "deepnote_cell_type": "markdown",
        "id": "5ldZgpwrppWJ"
      },
      "source": [
        "Sin optimizar"
      ]
    },
    {
      "cell_type": "code",
      "metadata": {
        "tags": [],
        "cell_id": "00010-931f2d0c-5592-4f69-86af-e82ef96d12dc",
        "deepnote_to_be_reexecuted": false,
        "source_hash": "c31f4ceb",
        "execution_start": 1626224676770,
        "execution_millis": 174,
        "deepnote_cell_type": "code",
        "id": "toN4pGk3ppWJ",
        "outputId": "dba950d2-53d3-45d8-9ae4-6b126a87b12f"
      },
      "source": [
        "# Uses python3\n",
        "import sys\n",
        "\n",
        "def get_fibonacci_huge_naive(n, m):\n",
        "    if n <= 1:\n",
        "        return n\n",
        "\n",
        "    previous = 0\n",
        "    current  = 1\n",
        "\n",
        "    for _ in range(n - 1):\n",
        "        previous, current = current, previous + current\n",
        "\n",
        "    return current % m\n",
        "\n",
        "if __name__ == '__main__':\n",
        "    input = sys.stdin.read();\n",
        "    #n, m = map(int, input.split())\n",
        "    n, m = 69420, 4\n",
        "    print(get_fibonacci_huge_naive(n, m))"
      ],
      "execution_count": null,
      "outputs": [
        {
          "output_type": "stream",
          "text": [
            "0\n"
          ],
          "name": "stdout"
        }
      ]
    },
    {
      "cell_type": "markdown",
      "metadata": {
        "tags": [],
        "cell_id": "00025-b890b751-8341-4f25-9bec-3e0dea36721c",
        "deepnote_cell_type": "markdown",
        "id": "ojfiLhMLppWJ"
      },
      "source": [
        "Optimizado"
      ]
    },
    {
      "cell_type": "code",
      "metadata": {
        "tags": [],
        "cell_id": "00027-877c05f2-0e16-4945-b49f-9751c4972198",
        "deepnote_to_be_reexecuted": false,
        "source_hash": "4649d0a0",
        "execution_start": 1626230985669,
        "execution_millis": 22,
        "deepnote_cell_type": "code",
        "id": "lOYnLNrJppWJ",
        "outputId": "6e73ee03-9220-403b-c68e-e6f6a661474f"
      },
      "source": [
        "def fib_number_again_optimized(n, m):\n",
        "    \n",
        "    base_cases = {0: 0, 1: 1}\n",
        "\n",
        "    def fib_m(n):\n",
        "        if n in base_cases:\n",
        "            return base_cases[n]\n",
        "\n",
        "        if n % 2 == 0:\n",
        "            fib_mid_n = fib_m(n // 2)\n",
        "            res = (2 * fib_m(n // 2 - 1) + fib_mid_n) * fib_mid_n\n",
        "        else:\n",
        "            res = fib_m((n + 1) // 2) ** 2 + fib_m((n - 1) // 2) ** 2\n",
        "\n",
        "        base_cases[n] = res = res % m\n",
        "        return res\n",
        "\n",
        "    return fib_m(n)\n",
        "\n",
        "if __name__ == \"__main__\":\n",
        "    #n, m = map(int, input().split())\n",
        "\n",
        "    n=10\n",
        "    n=200\n",
        "    print(fib_number_again_optimized(n, m))"
      ],
      "execution_count": null,
      "outputs": [
        {
          "output_type": "stream",
          "text": [
            "1\n"
          ],
          "name": "stdout"
        }
      ]
    },
    {
      "cell_type": "markdown",
      "metadata": {
        "tags": [],
        "cell_id": "00011-dcf443eb-595f-4359-8412-3d6f4a382c4d",
        "deepnote_cell_type": "markdown",
        "id": "m84d4qnXppWK"
      },
      "source": [
        "## 6. Last digit of the sum of fibonacci numbers"
      ]
    },
    {
      "cell_type": "markdown",
      "metadata": {
        "tags": [],
        "cell_id": "00019-a644fe12-f98a-447b-8fa9-4a028ff68336",
        "deepnote_cell_type": "markdown",
        "id": "-3Su-rHfppWK"
      },
      "source": [
        "Sin optimizar"
      ]
    },
    {
      "cell_type": "code",
      "metadata": {
        "tags": [],
        "cell_id": "00014-4115f081-0872-4550-bb92-99f5434eac72",
        "deepnote_to_be_reexecuted": false,
        "source_hash": "f380bca0",
        "execution_start": 1626224898597,
        "execution_millis": 288,
        "deepnote_cell_type": "code",
        "id": "4iSZFgO6ppWK",
        "outputId": "a556c020-b99c-4e2e-f2ee-fe3bdc919d6d"
      },
      "source": [
        "# Uses python3\n",
        "import sys\n",
        "\n",
        "def fibonacci_sum_naive(n):\n",
        "    if n <= 1:\n",
        "        return n\n",
        "\n",
        "    previous = 0\n",
        "    current  = 1\n",
        "    sum      = 1\n",
        "\n",
        "    for _ in range(n - 1):\n",
        "        previous, current = current, previous + current\n",
        "        sum += current\n",
        "\n",
        "    return sum % 10\n",
        "\n",
        "if __name__ == '__main__':\n",
        "    input = sys.stdin.read()\n",
        "    #n = int(input)\n",
        "    n = 69696\n",
        "    print(fibonacci_sum_naive(n))"
      ],
      "execution_count": null,
      "outputs": [
        {
          "output_type": "stream",
          "text": [
            "8\n"
          ],
          "name": "stdout"
        }
      ]
    },
    {
      "cell_type": "markdown",
      "metadata": {
        "tags": [],
        "cell_id": "00021-68598031-15f2-4a0a-9db4-4b15eaebe1ed",
        "deepnote_cell_type": "markdown",
        "id": "d1vvEBB9ppWK"
      },
      "source": [
        "Optimizado"
      ]
    },
    {
      "cell_type": "code",
      "metadata": {
        "tags": [],
        "cell_id": "00022-1b5285dc-7b35-4a47-9cb1-09ba69291e71",
        "deepnote_to_be_reexecuted": false,
        "source_hash": "d821eaff",
        "execution_start": 1626224905772,
        "execution_millis": 13,
        "deepnote_cell_type": "code",
        "id": "wbl0leajppWK",
        "outputId": "48b22291-d079-43e0-a55d-5aec30b02417"
      },
      "source": [
        "# Uses python3\n",
        "import sys\n",
        "\n",
        "def fibonacci_sum_efficient(n):\n",
        "    f0 = 0\n",
        "    f1 = 1\n",
        "\n",
        "    if n == 0:\n",
        "        return 0\n",
        "    if n == 1:\n",
        "        return 1\n",
        "    \n",
        "    remainder = n % 60\n",
        "\n",
        "    if remainder == 0:\n",
        "        return 0\n",
        "\n",
        "    for i in range(2, remainder+3):\n",
        "        f = (f0 + f1)%60\n",
        "        f0 = f1\n",
        "        f1 = f\n",
        "\n",
        "    s = f1 - 1\n",
        "    return s%10\n",
        "\n",
        "if __name__ == '__main__':\n",
        "    input = sys.stdin.read()\n",
        "    #n = int(input)\n",
        "    n = 69696\n",
        "    print(fibonacci_sum_efficient(n))"
      ],
      "execution_count": null,
      "outputs": [
        {
          "output_type": "stream",
          "text": [
            "8\n"
          ],
          "name": "stdout"
        }
      ]
    },
    {
      "cell_type": "markdown",
      "metadata": {
        "tags": [],
        "cell_id": "00015-8d1e85b0-38cf-40b5-9655-83bc2cfe4f96",
        "deepnote_cell_type": "markdown",
        "id": "VqMjvnn6ppWL"
      },
      "source": [
        "## 7. Last digit of the sum of fibonacci numbers again"
      ]
    },
    {
      "cell_type": "markdown",
      "metadata": {
        "tags": [],
        "cell_id": "00022-f1f7a17d-8172-4b40-af53-c3235c8da098",
        "deepnote_cell_type": "markdown",
        "id": "KTsxWGphppWL"
      },
      "source": [
        "Sin optimizar"
      ]
    },
    {
      "cell_type": "code",
      "metadata": {
        "tags": [],
        "cell_id": "00016-1cdeeece-3cd2-408c-960c-fccdcb81c126",
        "deepnote_to_be_reexecuted": false,
        "source_hash": "aa12d23",
        "execution_start": 1626231049366,
        "execution_millis": 5,
        "deepnote_cell_type": "code",
        "id": "QQRjddJ9ppWL",
        "outputId": "7c0d19f4-783b-424e-d317-03141334b51f"
      },
      "source": [
        "# Uses python3\n",
        "import sys\n",
        "\n",
        "def fibonacci_partial_sum_naive(from_, to):\n",
        "    sum = 0\n",
        "\n",
        "    current = 0\n",
        "    next  = 1\n",
        "\n",
        "    for i in range(to + 1):\n",
        "        if i >= from_:\n",
        "            sum += current\n",
        "        current, next = next, current + next\n",
        "    return sum % 10\n",
        "\n",
        "\n",
        "if __name__ == '__main__':\n",
        "    input = sys.stdin.read();\n",
        "    from_, to = 10, 200\n",
        "    print(fibonacci_partial_sum_naive(from_, to))"
      ],
      "execution_count": null,
      "outputs": [
        {
          "output_type": "stream",
          "text": [
            "2\n"
          ],
          "name": "stdout"
        }
      ]
    },
    {
      "cell_type": "markdown",
      "metadata": {
        "tags": [],
        "cell_id": "00024-4982bc07-da7f-4955-876b-b6f24187f39d",
        "deepnote_cell_type": "markdown",
        "id": "itdvrqWRppWL"
      },
      "source": [
        "Optimizado"
      ]
    },
    {
      "cell_type": "code",
      "metadata": {
        "tags": [],
        "cell_id": "00037-74307f6c-1307-4d76-b267-b8dce7524c21",
        "deepnote_to_be_reexecuted": false,
        "source_hash": "91d8b0a9",
        "execution_start": 1626231016068,
        "execution_millis": 15,
        "deepnote_cell_type": "code",
        "id": "dIJY1EMsppWL",
        "outputId": "aba8f077-8acf-4bc4-f10e-c839b888b720"
      },
      "source": [
        "def fibonacci_partial_sum_naive(m, n):\n",
        "    if n<=1:\n",
        "        print(n)  \n",
        "        quit()\n",
        "\n",
        "    lesser_n = (n+2)%60\n",
        "    lesser_m = (m+1)%60\n",
        "\n",
        "\n",
        "    def fibo(n):\n",
        "        a,b = 0, 1\n",
        "        for i in range(2,n+1):\n",
        "            c = a+b\n",
        "            c = c%10\n",
        "            b, a = c, b\n",
        "        return c-1\n",
        "    if lesser_n<=1:\n",
        "        a = lesser_n-1\n",
        "    else:\n",
        "        a = fibo(lesser_n)\n",
        "    if lesser_m<=1:\n",
        "        b = lesser_m-1\n",
        "    else:\n",
        "        b = fibo(lesser_m)\n",
        "    # print(a)\n",
        "    # print(b)\n",
        "    if a>=b:\n",
        "        print(a-b)\n",
        "    else:\n",
        "        print(10+a-b)\n",
        "\n",
        "if __name__ == '__main__':\n",
        "    #m,n = [int(i) for i in input().split()]\n",
        "    m = 10;\n",
        "    n = 200;\n",
        "    fibonacci_partial_sum_naive(m, n)"
      ],
      "execution_count": null,
      "outputs": [
        {
          "output_type": "stream",
          "text": [
            "2\n"
          ],
          "name": "stdout"
        }
      ]
    },
    {
      "cell_type": "markdown",
      "metadata": {
        "tags": [],
        "cell_id": "00018-4134fb0f-a9d0-4526-b360-59dc290d7295",
        "deepnote_cell_type": "markdown",
        "id": "Bv2mYkARppWL"
      },
      "source": [
        "## 8. Last digit of the sum of squares of fibonacci numbers"
      ]
    },
    {
      "cell_type": "markdown",
      "metadata": {
        "tags": [],
        "cell_id": "00025-a331ab24-aabf-4db3-9c9e-a0e40c461b3e",
        "deepnote_cell_type": "markdown",
        "id": "zR-CQEHpppWL"
      },
      "source": [
        "Sin optimizar"
      ]
    },
    {
      "cell_type": "code",
      "metadata": {
        "tags": [],
        "cell_id": "00020-d4a22dc2-9a36-4274-afb6-4b1d0ee89563",
        "deepnote_to_be_reexecuted": false,
        "source_hash": "5d6f6a22",
        "execution_start": 1626226751391,
        "execution_millis": 25,
        "deepnote_cell_type": "code",
        "id": "Eq0KmVQFppWL",
        "outputId": "3ef24c0b-4d76-437e-c6a9-2722756f2f8c"
      },
      "source": [
        "# Uses python3\n",
        "from sys import stdin\n",
        "\n",
        "def fibonacci_sum_squares_naive(n):\n",
        "    if n <= 1:\n",
        "        return n\n",
        "\n",
        "    previous = 0\n",
        "    current  = 1\n",
        "    sum      = 1\n",
        "\n",
        "    for _ in range(n - 1):\n",
        "        previous, current = current, previous + current\n",
        "        sum += current * current\n",
        "\n",
        "    return sum % 10\n",
        "\n",
        "if __name__ == '__main__':\n",
        "    #n = int(stdin.read())\n",
        "    n = 70\n",
        "    print(fibonacci_sum_squares_naive(n))"
      ],
      "execution_count": null,
      "outputs": [
        {
          "output_type": "stream",
          "text": [
            "5\n"
          ],
          "name": "stdout"
        }
      ]
    },
    {
      "cell_type": "markdown",
      "metadata": {
        "tags": [],
        "cell_id": "00027-da216db5-f78f-4108-ab0a-60bb1472c560",
        "deepnote_cell_type": "markdown",
        "id": "OXCBrkgYppWM"
      },
      "source": [
        "Optimizado"
      ]
    },
    {
      "cell_type": "code",
      "metadata": {
        "tags": [],
        "cell_id": "00041-55f48af1-79e0-4112-9435-c0048a0f238c",
        "deepnote_to_be_reexecuted": false,
        "source_hash": "6f6c53bc",
        "execution_start": 1626228612424,
        "execution_millis": 15935,
        "deepnote_cell_type": "code",
        "id": "LH5NmJxpppWM",
        "outputId": "9fdf8787-f4e9-4147-c0d9-5b9ebf44f579"
      },
      "source": [
        "n = int(input())\n",
        "#n= 70\n",
        "lesser_n = n%60\n",
        "lesser_nplus = (n+1)%60\n",
        "\n",
        "def fibo(n):\n",
        "    a, b = 0, 1\n",
        "    for _ in range(2, n+1):\n",
        "        c = a+b\n",
        "        c = c% 10\n",
        "        b, a = c, b\n",
        "    return c\n",
        "\n",
        "if lesser_n<=1:\n",
        "    a = lesser_n\n",
        "else:\n",
        "    a = fibo(lesser_n)\n",
        "if lesser_nplus<=1:\n",
        "    b = lesser_nplus\n",
        "else:\n",
        "    b = fibo(lesser_nplus)\n",
        " \n",
        "print((a*b)%10)"
      ],
      "execution_count": null,
      "outputs": [
        {
          "output_type": "stream",
          "text": [
            "0\n"
          ],
          "name": "stdout"
        }
      ]
    },
    {
      "cell_type": "markdown",
      "metadata": {
        "id": "uo5DrlLUpsDM"
      },
      "source": [
        "![image.png](data:image/png;base64,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)"
      ]
    },
    {
      "cell_type": "markdown",
      "metadata": {
        "tags": [],
        "created_in_deepnote_cell": true,
        "deepnote_cell_type": "markdown",
        "id": "iqdfRpiyppWM"
      },
      "source": [
        "<a style='text-decoration:none;line-height:16px;display:flex;color:#5B5B62;padding:10px;justify-content:end;' href='https://deepnote.com?utm_source=created-in-deepnote-cell&projectId=c7c4efc1-93a5-4c47-bd54-d7f131f6c6cf' target=\"_blank\">\n",
        "<img alt='Created in deepnote.com' style='display:inline;max-height:16px;margin:0px;margin-right:7.5px;' src='data:image/svg+xml;base64,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' > </img>\n",
        "Created in <span style='font-weight:600;margin-left:4px;'>Deepnote</span></a>"
      ]
    }
  ]
}