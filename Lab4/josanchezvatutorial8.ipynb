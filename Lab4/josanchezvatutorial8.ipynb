{
 "cells": [
  {
   "cell_type": "markdown",
   "metadata": {},
   "source": [
    "![QuantConnect Logo](https://cdn.quantconnect.com/web/i/icon.png)\n",
    "<hr>"
   ]
  },
  {
   "cell_type": "code",
   "execution_count": 13,
   "metadata": {},
   "outputs": [
    {
     "name": "stdout",
     "output_type": "stream",
     "text": [
      "Population mean: 0.0005481046867835749\n",
      "Population standard deviation: 0.010787058234458887\n"
     ]
    }
   ],
   "source": [
    "import matplotlib.pyplot as plt\n",
    "import numpy as np\n",
    "import pandas as pd\n",
    "\n",
    "qb = QuantBook()\n",
    "spy = qb.AddEquity(\"SPY\").Symbol\n",
    "\n",
    "#get SPY data from August 2010 to the present\n",
    "start_date = datetime(2010, 8, 1, 0, 0, 0)\n",
    "end_date = qb.Time\n",
    "spy_table = qb.History(spy, start_date, end_date, Resolution.Daily)\n",
    "\n",
    "spy_total = spy_table[['open','close']]\n",
    "#calculate log returns\n",
    "spy_log_return = np.log(spy_total.close).diff().dropna()\n",
    "print('Population mean:', np.mean(spy_log_return))\n",
    "print('Population standard deviation:',np.std(spy_log_return))"
   ]
  },
  {
   "cell_type": "code",
   "execution_count": 14,
   "metadata": {},
   "outputs": [
    {
     "name": "stdout",
     "output_type": "stream",
     "text": [
      "10 days sample returns: 0.0008129861428401774\n",
      "10 days sample standard deviation: 0.00835988600245765\n",
      "1000 days sample returns: 0.0005970258230146666\n",
      "1000 days sample standard deviation: 0.012931517648941647\n"
     ]
    }
   ],
   "source": [
    "print('10 days sample returns:', np.mean(spy_log_return.tail(10)))\n",
    "print('10 days sample standard deviation:', np.std(spy_log_return.tail(10)))\n",
    "print('1000 days sample returns:', np.mean(spy_log_return.tail(1000)))\n",
    "print('1000 days sample standard deviation:', np.std(spy_log_return.tail(1000)))"
   ]
  },
  {
   "cell_type": "code",
   "execution_count": 15,
   "metadata": {},
   "outputs": [
    {
     "name": "stdout",
     "output_type": "stream",
     "text": [
      "10 days 95% confidence inverval: (-0.004368524883596551, 0.0059944971692769055)\n",
      "1000 days 95% confidence inverval: (-0.00020447794470243076, 0.0013985295907317638)\n"
     ]
    }
   ],
   "source": [
    "#apply the formula above to calculate confidence interval\n",
    "bottom_1 = np.mean(spy_log_return.tail(10))-1.96*np.std(spy_log_return.tail(10))/(np.sqrt(len((spy_log_return.tail(10)))))\n",
    "upper_1 = np.mean(spy_log_return.tail(10))+1.96*np.std(spy_log_return.tail(10))/(np.sqrt(len((spy_log_return.tail(10)))))\n",
    "bottom_2 = np.mean(spy_log_return.tail(1000))-1.96*np.std(spy_log_return.tail(1000))/(np.sqrt(len((spy_log_return.tail(1000)))))\n",
    "upper_2 = np.mean(spy_log_return.tail(1000))+1.96*np.std(spy_log_return.tail(1000))/(np.sqrt(len((spy_log_return.tail(1000)))))\n",
    "#print the outcomes\n",
    "print('10 days 95% confidence inverval:', (bottom_1,upper_1))\n",
    "print('1000 days 95% confidence inverval:', (bottom_2,upper_2))"
   ]
  },
  {
   "cell_type": "code",
   "execution_count": 16,
   "metadata": {},
   "outputs": [
    {
     "name": "stdout",
     "output_type": "stream",
     "text": [
      "mean_10      0.000813\n",
      "std_10       0.008360\n",
      "mean_1000    0.000597\n",
      "std_1000     0.012932\n",
      "dtype: float64\n"
     ]
    }
   ],
   "source": [
    "mean_1000 = np.mean(spy_log_return.tail(1000))\n",
    "std_1000 = np.std(spy_log_return.tail(1000))\n",
    "mean_10 = np.mean(spy_log_return.tail(10))\n",
    "std_10 = np.std(spy_log_return.tail(10))\n",
    "s = pd.Series([mean_10,std_10,mean_1000,std_1000],index = ['mean_10', 'std_10','mean_1000','std_1000'])\n",
    "print(s)"
   ]
  },
  {
   "cell_type": "code",
   "execution_count": 17,
   "metadata": {},
   "outputs": [
    {
     "name": "stdout",
     "output_type": "stream",
     "text": [
      "(-0.0006706460097224693, 0.0006706460097224693)\n"
     ]
    }
   ],
   "source": [
    "bottom = 0 - 1.64*std_1000/np.sqrt(1000)\n",
    "upper = 0 + 1.64*std_1000/np.sqrt(1000)\n",
    "print((bottom, upper))"
   ]
  },
  {
   "cell_type": "code",
   "execution_count": 18,
   "metadata": {},
   "outputs": [
    {
     "name": "stdout",
     "output_type": "stream",
     "text": [
      "(-0.0008015037677170973, 0.0008015037677170973)\n"
     ]
    }
   ],
   "source": [
    "bottom = 0 - 1.96*std_1000/np.sqrt(1000)\n",
    "upper = 0 + 1.96*std_1000/np.sqrt(1000)\n",
    "print((bottom, upper))"
   ]
  },
  {
   "cell_type": "code",
   "execution_count": 19,
   "metadata": {},
   "outputs": [
    {
     "name": "stdout",
     "output_type": "stream",
     "text": [
      "1.4599689486697156\n"
     ]
    }
   ],
   "source": [
    "print(np.sqrt(1000)*(mean_1000 - 0)/std_1000)"
   ]
  },
  {
   "cell_type": "code",
   "execution_count": 20,
   "metadata": {},
   "outputs": [
    {
     "name": "stdout",
     "output_type": "stream",
     "text": [
      "0.02565965688799665\n"
     ]
    }
   ],
   "source": [
    "import scipy.stats as st\n",
    "print((1 - st.norm.cdf(1.9488)))"
   ]
  },
  {
   "cell_type": "code",
   "execution_count": 21,
   "metadata": {},
   "outputs": [
    {
     "name": "stdout",
     "output_type": "stream",
     "text": [
      "z-score =  1.7530712831508348\n",
      "p_value =  0.039794886034644095\n"
     ]
    }
   ],
   "source": [
    "mean_1200 = np.mean(spy_log_return.tail(1200))\n",
    "std_1200 = np.std(spy_log_return.tail(1200))\n",
    "z_score = np.sqrt(1200)*(mean_1200 - 0)/std_1200\n",
    "print('z-score = ',z_score)\n",
    "p_value = (1 - st.norm.cdf(z_score))\n",
    "print('p_value = ',p_value)"
   ]
  }
 ],
 "metadata": {
  "kernelspec": {
   "display_name": "Python 3",
   "language": "python",
   "name": "python3"
  },
  "language_info": {
   "codemirror_mode": {
    "name": "ipython",
    "version": 3
   },
   "file_extension": ".py",
   "mimetype": "text/x-python",
   "name": "python",
   "nbconvert_exporter": "python",
   "pygments_lexer": "ipython3",
   "version": "3.6.8"
  }
 },
 "nbformat": 4,
 "nbformat_minor": 2
}
