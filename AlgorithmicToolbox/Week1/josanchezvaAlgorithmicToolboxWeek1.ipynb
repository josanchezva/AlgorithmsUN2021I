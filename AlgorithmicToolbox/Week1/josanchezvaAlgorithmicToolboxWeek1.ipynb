{
  "cells": [
    {
      "cell_type": "markdown",
      "source": "# I Solving the Sum of Two Digits Programming Challenge",
      "metadata": {
        "id": "N1ok_-56OjB1",
        "cell_id": "00000-6ab30712-3432-462b-8e0e-4c1072740b27",
        "deepnote_cell_type": "markdown"
      }
    },
    {
      "cell_type": "markdown",
      "source": "## C++",
      "metadata": {
        "id": "MMY7kmDSO0KM",
        "cell_id": "00001-6d90503b-896b-4c09-b043-1d63ba483763",
        "deepnote_cell_type": "markdown"
      }
    },
    {
      "cell_type": "code",
      "metadata": {
        "colab": {
          "base_uri": "https://localhost:8080/"
        },
        "id": "2pGGf9BkPNIk",
        "outputId": "8a3759b9-3d79-4473-ce1f-b6d815d6de1b",
        "cell_id": "00002-85b9eec2-cb56-44b8-b295-7015d2f69f16",
        "deepnote_to_be_reexecuted": false,
        "source_hash": "95290c32",
        "execution_millis": 16,
        "execution_start": 1616860306725,
        "deepnote_cell_type": "code"
      },
      "source": "%%writefile sum.cpp\n#include <iostream>\n\nint sum_of_two_digits(int first_digit, int second_digit) {\n    return first_digit + second_digit;\n}\n\nint main() {\n    int a = 0;\n    int b = 0;\n    std::cin >> a;\n    std::cin >> b;\n    std::cout << sum_of_two_digits(a, b);\n    return 0;\n}",
      "outputs": [
        {
          "name": "stdout",
          "text": "Overwriting sum.cpp\n",
          "output_type": "stream"
        }
      ],
      "execution_count": null
    },
    {
      "cell_type": "code",
      "metadata": {
        "colab": {
          "base_uri": "https://localhost:8080/"
        },
        "id": "0G3ZKOYAPXSU",
        "outputId": "271ca233-f90a-43bc-d849-c3b175688461",
        "cell_id": "00003-1cdedd49-a7ba-4f98-8393-ca6327b44680",
        "deepnote_to_be_reexecuted": false,
        "source_hash": "195537d",
        "execution_millis": 78931,
        "execution_start": 1616860306736,
        "deepnote_cell_type": "code"
      },
      "source": "!g++ sum.cpp -o sum\n!./sum",
      "outputs": [
        {
          "name": "stdout",
          "text": "^C\r\n",
          "output_type": "stream"
        }
      ],
      "execution_count": null
    },
    {
      "cell_type": "markdown",
      "source": "### Test input output files",
      "metadata": {
        "id": "iNkG2HqfTl9c",
        "cell_id": "00004-c7127bc4-c952-423a-87f9-133599ce1b22",
        "deepnote_cell_type": "markdown"
      }
    },
    {
      "cell_type": "code",
      "metadata": {
        "colab": {
          "base_uri": "https://localhost:8080/"
        },
        "id": "aTzU2efzMxly",
        "outputId": "b3ee57f0-3ebe-4618-b36a-cba2dbb3a358",
        "cell_id": "00005-965716cc-b768-4e7f-9d88-013bd6e2689e",
        "deepnote_to_be_reexecuted": false,
        "source_hash": "fadeebb9",
        "execution_millis": 24,
        "execution_start": 1616860385662,
        "deepnote_cell_type": "code"
      },
      "source": "%%writefile input1.txt\n4 8",
      "outputs": [
        {
          "name": "stdout",
          "text": "Overwriting input1.txt\n",
          "output_type": "stream"
        }
      ],
      "execution_count": null
    },
    {
      "cell_type": "markdown",
      "source": "",
      "metadata": {
        "id": "pdkfsvs-T0Wr",
        "cell_id": "00006-cd9c4a7a-a534-45c3-84cd-d54b320fc48c",
        "deepnote_cell_type": "markdown"
      }
    },
    {
      "cell_type": "code",
      "metadata": {
        "colab": {
          "base_uri": "https://localhost:8080/"
        },
        "id": "zBJ0Gc0NQRet",
        "outputId": "eb8c08e1-c84d-45bf-d75f-5fa6dc9db8ad",
        "cell_id": "00007-ae034c1f-a2ff-441d-9dbb-3cd201e5a144",
        "deepnote_to_be_reexecuted": false,
        "source_hash": "cfab1a8b",
        "execution_millis": 16,
        "execution_start": 1616860385670,
        "deepnote_cell_type": "code"
      },
      "source": "%%writefile output1.txt\n12",
      "outputs": [
        {
          "name": "stdout",
          "text": "Overwriting output1.txt\n",
          "output_type": "stream"
        }
      ],
      "execution_count": null
    },
    {
      "cell_type": "code",
      "metadata": {
        "colab": {
          "base_uri": "https://localhost:8080/"
        },
        "id": "IjEcIx63PJAN",
        "outputId": "d12de767-3ab3-48be-d9e9-0b42144080aa",
        "cell_id": "00008-289ee00c-f103-4e05-97af-98b61772561e",
        "deepnote_to_be_reexecuted": false,
        "source_hash": "5510be02",
        "execution_millis": 12,
        "execution_start": 1616860385679,
        "deepnote_cell_type": "code"
      },
      "source": "%%writefile input2.txt\n-5 9",
      "outputs": [
        {
          "name": "stdout",
          "text": "Overwriting input2.txt\n",
          "output_type": "stream"
        }
      ],
      "execution_count": null
    },
    {
      "cell_type": "code",
      "metadata": {
        "colab": {
          "base_uri": "https://localhost:8080/"
        },
        "id": "Up9gOrxURTmd",
        "outputId": "8b1ffc9a-b9d2-4b03-9e0e-a25ae27a64b3",
        "cell_id": "00009-0431fe26-3bc4-4d1a-9df7-e67d71d8d030",
        "deepnote_to_be_reexecuted": false,
        "source_hash": "7412da69",
        "execution_millis": 5,
        "execution_start": 1616860385723,
        "deepnote_cell_type": "code"
      },
      "source": "%%writefile output2.txt\n4",
      "outputs": [
        {
          "name": "stdout",
          "text": "Overwriting output2.txt\n",
          "output_type": "stream"
        }
      ],
      "execution_count": null
    },
    {
      "cell_type": "code",
      "metadata": {
        "colab": {
          "base_uri": "https://localhost:8080/"
        },
        "id": "PST6G-s-Pwgc",
        "outputId": "069de8c1-7dbb-4c2b-bfc5-f1c7550d5c4f",
        "cell_id": "00010-15df3ec1-ed07-4c1a-aa0b-741a9df4cd90",
        "deepnote_to_be_reexecuted": false,
        "source_hash": "ccc410e6",
        "execution_millis": 543,
        "execution_start": 1616860385723,
        "deepnote_cell_type": "code"
      },
      "source": "!./sum < input1.txt",
      "outputs": [
        {
          "name": "stdout",
          "text": "12",
          "output_type": "stream"
        }
      ],
      "execution_count": null
    },
    {
      "cell_type": "code",
      "metadata": {
        "colab": {
          "base_uri": "https://localhost:8080/"
        },
        "id": "cKxZOjSlRfIN",
        "outputId": "d5946364-d492-4049-8bb5-5fedd2c3a253",
        "cell_id": "00011-1de42ff2-5567-4672-94e6-9eb9d508d819",
        "deepnote_to_be_reexecuted": false,
        "source_hash": "502da1a9",
        "execution_millis": 580,
        "execution_start": 1616860386270,
        "deepnote_cell_type": "code"
      },
      "source": "!./sum < input2.txt",
      "outputs": [
        {
          "name": "stdout",
          "text": "4",
          "output_type": "stream"
        }
      ],
      "execution_count": null
    },
    {
      "cell_type": "code",
      "metadata": {
        "id": "gMz7YLssPk4k",
        "cell_id": "00012-53cc0806-6fce-420c-a4f4-a369715b0840",
        "deepnote_to_be_reexecuted": false,
        "source_hash": "b31fd813",
        "execution_millis": 2,
        "execution_start": 1616860386850,
        "deepnote_cell_type": "code"
      },
      "source": "\n",
      "outputs": [],
      "execution_count": null
    },
    {
      "cell_type": "markdown",
      "source": "### Comparing files with grep\n\nhttps://askubuntu.com/questions/546796/comparing-two-text-files",
      "metadata": {
        "id": "Qw2TQWCCUwqk",
        "cell_id": "00013-9638c1fb-982d-466a-b860-13e9f672bec6",
        "deepnote_cell_type": "markdown"
      }
    },
    {
      "cell_type": "code",
      "metadata": {
        "id": "WVIaAmMKU4QM",
        "cell_id": "00014-65ee4146-ab48-46e8-9f1e-006c9ce33107",
        "deepnote_to_be_reexecuted": false,
        "source_hash": "474ebaf4",
        "execution_millis": 568,
        "execution_start": 1616860386852,
        "deepnote_cell_type": "code"
      },
      "source": "!grep -xvFf output1.txt output1.txt ",
      "outputs": [],
      "execution_count": null
    },
    {
      "cell_type": "code",
      "metadata": {
        "colab": {
          "base_uri": "https://localhost:8080/"
        },
        "id": "MQU8gPPjQuYO",
        "outputId": "c700e9c9-2d36-4d64-faac-f7cefe711e08",
        "cell_id": "00015-157b716d-3a1c-4cc7-b41f-18ba89299d11",
        "deepnote_to_be_reexecuted": false,
        "source_hash": "4291cbd4",
        "execution_millis": 585,
        "execution_start": 1616860387429,
        "deepnote_cell_type": "code"
      },
      "source": "!grep -xvFf output1.txt output2.txt ",
      "outputs": [
        {
          "name": "stdout",
          "text": "4\r\n",
          "output_type": "stream"
        }
      ],
      "execution_count": null
    },
    {
      "cell_type": "code",
      "metadata": {
        "colab": {
          "base_uri": "https://localhost:8080/"
        },
        "id": "jYL9OuYBTD_l",
        "outputId": "03cba134-2ad3-4251-a72c-a8a5ab76aad3",
        "cell_id": "00016-f2a319f2-dcb6-4414-af78-7e2d8bf07815",
        "deepnote_to_be_reexecuted": false,
        "source_hash": "e71a28de",
        "execution_millis": 578,
        "execution_start": 1616860388021,
        "deepnote_cell_type": "code"
      },
      "source": "!grep -xvFf output2.txt output1.txt ",
      "outputs": [
        {
          "name": "stdout",
          "text": "12\r\n",
          "output_type": "stream"
        }
      ],
      "execution_count": null
    },
    {
      "cell_type": "code",
      "metadata": {
        "id": "Jlja0Xm4TX9M",
        "cell_id": "00017-d6beeecc-b093-44f9-952d-a2cb6ec5a674",
        "deepnote_to_be_reexecuted": false,
        "source_hash": "97465882",
        "execution_millis": 1201,
        "execution_start": 1616860388601,
        "deepnote_cell_type": "code"
      },
      "source": "!./sum < input1.txt> ctest1.txt\n!grep -xvFf output1.txt ctest1.txt",
      "outputs": [],
      "execution_count": null
    },
    {
      "cell_type": "code",
      "metadata": {
        "id": "g9OIUZA_QLCQ",
        "cell_id": "00018-5b8f9030-69a6-47ac-877d-e1440528157c",
        "deepnote_to_be_reexecuted": false,
        "source_hash": "f6e9fb58",
        "execution_millis": 1093,
        "execution_start": 1616860389803,
        "deepnote_cell_type": "code"
      },
      "source": "!./sum < input2.txt > ctest2.txt\n!grep -xvFf output2.txt ctest2.txt",
      "outputs": [],
      "execution_count": null
    },
    {
      "cell_type": "markdown",
      "source": "## Python",
      "metadata": {
        "id": "3BgOaDjUVJk6",
        "cell_id": "00019-00a88733-f768-4a8f-9b2c-b2141d7f5fb3",
        "deepnote_cell_type": "markdown"
      }
    },
    {
      "cell_type": "code",
      "metadata": {
        "colab": {
          "base_uri": "https://localhost:8080/"
        },
        "id": "DBvl-T0CTN_8",
        "outputId": "4965153b-ad00-481e-a0be-007c4ec4a079",
        "cell_id": "00020-e71681a7-a1a2-46f9-8167-4df49e715176",
        "deepnote_to_be_reexecuted": false,
        "source_hash": "1cff20cb",
        "execution_millis": 17,
        "execution_start": 1616860390899,
        "deepnote_cell_type": "code"
      },
      "source": "%%writefile sum.py\n# python3\n\n\ndef sum_of_two_digits(first_digit, second_digit):\n    return first_digit + second_digit\n\nif __name__ == '__main__':\n    a, b = map(int, input().split())\n    print(sum_of_two_digits(a, b))",
      "outputs": [
        {
          "name": "stdout",
          "text": "Overwriting sum.py\n",
          "output_type": "stream"
        }
      ],
      "execution_count": null
    },
    {
      "cell_type": "code",
      "metadata": {
        "colab": {
          "base_uri": "https://localhost:8080/"
        },
        "id": "QKoKM11_WGyF",
        "outputId": "684fb7e7-eb60-46ae-8394-cb8dbb98b3fb",
        "cell_id": "00021-f3fd9a8c-7718-4665-9d2b-02302aa22775",
        "deepnote_to_be_reexecuted": false,
        "source_hash": "f4b3bb25",
        "execution_millis": 12067,
        "output_cleared": false,
        "execution_start": 1616860390911,
        "deepnote_cell_type": "code"
      },
      "source": "!python sum.py",
      "outputs": [
        {
          "name": "stdout",
          "text": "^C\r\nTraceback (most recent call last):\r\n  File \"sum.py\", line 8, in <module>\r\n    a, b = map(int, input().split())\r\nKeyboardInterrupt\r\n",
          "output_type": "stream"
        }
      ],
      "execution_count": null
    },
    {
      "cell_type": "code",
      "metadata": {
        "id": "cocFbPRTWrqt",
        "cell_id": "00022-1bf7c8c6-c7f0-4271-bf43-712c92d74a40",
        "deepnote_to_be_reexecuted": false,
        "source_hash": "286aa15b",
        "execution_millis": 1197,
        "execution_start": 1616860402907,
        "deepnote_cell_type": "code"
      },
      "source": "!python sum.py  < input1.txt> ptest1.txt\n!grep -xvFf output1.txt ptest1.txt",
      "outputs": [],
      "execution_count": null
    },
    {
      "cell_type": "code",
      "metadata": {
        "id": "MorKTa-XXASN",
        "cell_id": "00023-e20d2972-b0f1-498b-adfc-e444b5825a2c",
        "deepnote_to_be_reexecuted": false,
        "source_hash": "1326fddd",
        "execution_millis": 1172,
        "execution_start": 1616860404106,
        "deepnote_cell_type": "code"
      },
      "source": "!python sum.py  < input2.txt> ptest2.txt\n!grep -xvFf output2.txt ptest2.txt",
      "outputs": [],
      "execution_count": null
    },
    {
      "cell_type": "markdown",
      "source": "# II Solving The Maximum Pairwise Product Programming Challenge in C++",
      "metadata": {
        "id": "uvP-mOubW_5F",
        "cell_id": "00024-a52e11c8-1acf-4f98-a8db-d60d3fd83910",
        "deepnote_cell_type": "markdown"
      }
    },
    {
      "cell_type": "markdown",
      "source": "## C++",
      "metadata": {
        "id": "C12yoFR6Xonl",
        "cell_id": "00025-8e4beda1-da84-4247-989c-4f5068cdb8e6",
        "deepnote_cell_type": "markdown"
      }
    },
    {
      "cell_type": "code",
      "metadata": {
        "colab": {
          "base_uri": "https://localhost:8080/"
        },
        "id": "YL4qJX3tXxdd",
        "outputId": "8eaa34d4-52e7-4661-e22e-98055fc719e5",
        "cell_id": "00026-a7a14e87-f191-43c8-9864-6a0daa4017ce",
        "deepnote_to_be_reexecuted": false,
        "source_hash": "15d198ce",
        "execution_millis": 11,
        "execution_start": 1616860405282,
        "deepnote_cell_type": "code"
      },
      "source": "%%writefile max_pairwise_product1.cpp\n#include <iostream>\n#include <vector>\n#include <algorithm>\n\nint MaxPairwiseProduct(const std::vector<int>& numbers) {\n    int max_product = 0;\n    int n = numbers.size();\n\n    for (int first = 0; first < n; ++first) {\n        for (int second = first + 1; second < n; ++second) {\n            max_product = std::max(max_product,\n                numbers[first] * numbers[second]);\n        }\n    }\n\n    return max_product;\n}\n\nint main() {\n    int n;\n    std::cin >> n;\n    std::vector<int> numbers(n);\n    for (int i = 0; i < n; ++i) {\n        std::cin >> numbers[i];\n    }\n\n    std::cout << MaxPairwiseProduct(numbers) << \"\\n\";\n    return 0;\n}\n",
      "outputs": [
        {
          "name": "stdout",
          "text": "Overwriting max_pairwise_product1.cpp\n",
          "output_type": "stream"
        }
      ],
      "execution_count": null
    },
    {
      "cell_type": "code",
      "metadata": {
        "colab": {
          "base_uri": "https://localhost:8080/"
        },
        "id": "KGxaEjvWX__O",
        "outputId": "05843964-7c68-4b8f-84c9-07d54b39b703",
        "cell_id": "00027-8851e1be-6003-43c9-9716-0d06078cf0fe",
        "deepnote_to_be_reexecuted": false,
        "source_hash": "ea4e7328",
        "execution_millis": 7870,
        "execution_start": 1616860405294,
        "deepnote_cell_type": "code"
      },
      "source": "!g++ max_pairwise_product1.cpp -o max_pairwise_product1\n!./max_pairwise_product1",
      "outputs": [
        {
          "name": "stdout",
          "text": "^C\r\n",
          "output_type": "stream"
        }
      ],
      "execution_count": null
    },
    {
      "cell_type": "markdown",
      "source": "### Test 1: lagest input numbers 200000 200000 in the input",
      "metadata": {
        "id": "IeZ3kTjpYmR9",
        "cell_id": "00028-5a683d1b-1c3c-43e5-9616-64a63d387b01",
        "deepnote_cell_type": "markdown"
      }
    },
    {
      "cell_type": "code",
      "metadata": {
        "colab": {
          "base_uri": "https://localhost:8080/"
        },
        "id": "LQNlZqaqYt7U",
        "outputId": "1ca93a74-1d34-45e9-af1d-0dc053b80e03",
        "cell_id": "00029-3b294904-9d06-439d-b350-9d6225217f01",
        "deepnote_to_be_reexecuted": false,
        "source_hash": "dade9dfc",
        "execution_millis": 11,
        "execution_start": 1616860413160,
        "deepnote_cell_type": "code"
      },
      "source": "%%writefile input1.txt\n5\n1 3 200000 9 200000 23",
      "outputs": [
        {
          "name": "stdout",
          "text": "Overwriting input1.txt\n",
          "output_type": "stream"
        }
      ],
      "execution_count": null
    },
    {
      "cell_type": "code",
      "metadata": {
        "colab": {
          "base_uri": "https://localhost:8080/"
        },
        "id": "2Wad2VZUZDxR",
        "outputId": "2e838aaf-e9c9-4901-e745-3b2289e16135",
        "cell_id": "00030-4e73f364-d120-445a-bc7e-4d34e3582db7",
        "deepnote_to_be_reexecuted": false,
        "source_hash": "67d90120",
        "execution_millis": 610,
        "execution_start": 1616860413168,
        "deepnote_cell_type": "code"
      },
      "source": "!./max_pairwise_product1 < input1.txt",
      "outputs": [
        {
          "name": "stdout",
          "text": "1345294336\r\n",
          "output_type": "stream"
        }
      ],
      "execution_count": null
    },
    {
      "cell_type": "code",
      "metadata": {
        "colab": {
          "base_uri": "https://localhost:8080/"
        },
        "id": "MPcmsxiQZSfE",
        "outputId": "a9ba271e-b6c3-4382-b31e-651c2dbcfb9c",
        "cell_id": "00031-60088737-d0fa-4a84-91f7-6280ef54203b",
        "deepnote_to_be_reexecuted": false,
        "source_hash": "10457df6",
        "execution_millis": 9,
        "execution_start": 1616860413780,
        "deepnote_cell_type": "code"
      },
      "source": "%%writefile max_pairwise_product2.cpp\n#include <iostream>\n#include <vector>\n#include <algorithm>\n\nlong long MaxPairwiseProduct(const std::vector<int>& numbers) {\n    long long max_product = 0LL;\n\t  long long aux_product = 0LL;\n    int n = numbers.size();\n\n    for (int first = 0; first < n; ++first) {\n        for (int second = first + 1; second < n; ++second) {\n\t\t\t       aux_product =  (long long) numbers[first] * numbers[second];\n            if ( max_product < aux_product)  {\n\t\t\t\t        max_product = aux_product;\n             }\n        }\n    }\n\n    return max_product;\n}\n\nint main() {\n    int n;\n    std::cin >> n;\n    std::vector<int> numbers(n);\n    for (int i = 0; i < n; ++i) {\n        std::cin >> numbers[i];\n    }\n\n    std::cout << MaxPairwiseProduct(numbers) << \"\\n\";\n    return 0;\n}\n",
      "outputs": [
        {
          "name": "stdout",
          "text": "Overwriting max_pairwise_product2.cpp\n",
          "output_type": "stream"
        }
      ],
      "execution_count": null
    },
    {
      "cell_type": "code",
      "metadata": {
        "colab": {
          "base_uri": "https://localhost:8080/"
        },
        "id": "I5pCeOG1Zm7s",
        "outputId": "5c34e461-24a6-4fb8-e8d8-2275619f9227",
        "cell_id": "00032-49546c62-4799-48f5-b651-583145f2a168",
        "deepnote_to_be_reexecuted": false,
        "source_hash": "2b575a54",
        "execution_millis": 1480,
        "execution_start": 1616860413789,
        "deepnote_cell_type": "code"
      },
      "source": "!g++ max_pairwise_product2.cpp -o max_pairwise_product2\n!./max_pairwise_product2 < input1.txt",
      "outputs": [
        {
          "name": "stdout",
          "text": "40000000000\r\n",
          "output_type": "stream"
        }
      ],
      "execution_count": null
    },
    {
      "cell_type": "markdown",
      "source": "## Python",
      "metadata": {
        "tags": [],
        "cell_id": "00033-a2e9c477-1f5c-4c0b-9821-9a55052069c2",
        "deepnote_cell_type": "markdown"
      }
    },
    {
      "cell_type": "markdown",
      "source": "### Test 2  generate a tests file with the maximun n 200000 numbers and measure time",
      "metadata": {
        "id": "9z9yr5QkeyJF",
        "cell_id": "00033-38d32848-7c3f-43fa-90f4-e94b60246f79",
        "deepnote_cell_type": "markdown"
      }
    },
    {
      "cell_type": "code",
      "metadata": {
        "id": "oLiMjbAIfPlX",
        "cell_id": "00034-7e000ec5-f230-4dc2-a59d-fc336acb97d4",
        "deepnote_to_be_reexecuted": false,
        "source_hash": "d30e9664",
        "execution_millis": 85617,
        "execution_start": 1616860415277,
        "deepnote_cell_type": "code"
      },
      "source": "# Number generation\n\nimport random\n\nlista=[0]\n\nfor count in range(200000):\n    outfile = open('testfile.txt', 'w')\n    num = random.randint(1, 1000)\n    \n    lista.append(num)\n\n\n\nwith open('testfile.txt', 'w') as f:\n    for item in lista:\n        f.write(\"%s\\n\" % item)\n\nprint('Data written to testfile.txt')\n        ",
      "outputs": [
        {
          "name": "stdout",
          "text": "Data written to testfile.txt\n",
          "output_type": "stream"
        }
      ],
      "execution_count": null
    },
    {
      "cell_type": "markdown",
      "source": "### Efficient solution",
      "metadata": {
        "tags": [],
        "cell_id": "00036-2c957b3c-9f18-4c0b-bdf0-93ccccc4c5d1",
        "deepnote_cell_type": "markdown"
      }
    },
    {
      "cell_type": "code",
      "metadata": {
        "tags": [],
        "cell_id": "00039-0aa95455-f87f-447d-9d62-524c4b12b630",
        "deepnote_to_be_reexecuted": false,
        "source_hash": "c2024d0f",
        "execution_millis": 1,
        "output_cleared": true,
        "execution_start": 1616860500882,
        "deepnote_cell_type": "code"
      },
      "source": "# Efficient solution\n\ndef max_pairwise_product(arr):\n    n = len(arr)\n    max_product = 0\n    for first in range(n):\n        for second in range(first + 1, n):\n            max_product = max(max_product,\n                arr[first] * arr[second])\n    return max_product",
      "execution_count": null,
      "outputs": []
    },
    {
      "cell_type": "markdown",
      "source": "### Naive solution",
      "metadata": {
        "tags": [],
        "cell_id": "00038-210600a5-c141-4e51-9949-64e10767d04e",
        "deepnote_cell_type": "markdown"
      }
    },
    {
      "cell_type": "code",
      "metadata": {
        "tags": [],
        "cell_id": "00040-40a704f1-e4a0-4f76-8d45-1bec47a36782",
        "deepnote_to_be_reexecuted": false,
        "source_hash": "9053dd21",
        "execution_millis": 0,
        "execution_start": 1616860500883,
        "deepnote_cell_type": "code"
      },
      "source": "# Naive solution\n\ndef max_pairwise_naive(arr):\n    max_product = 0\n    for i in range(len(arr)):\n        for j in range(i+1,len(arr)):\n            max_product = max(max_product,arr[i]*arr[j])\n    return max_product",
      "outputs": [],
      "execution_count": null
    },
    {
      "cell_type": "markdown",
      "source": "### Test",
      "metadata": {
        "tags": [],
        "cell_id": "00040-c907c1d5-9f6c-42f1-918e-6b4d2f49d9e3",
        "deepnote_cell_type": "markdown"
      }
    },
    {
      "cell_type": "code",
      "metadata": {
        "tags": [],
        "cell_id": "00041-43f1f695-3722-4457-b62a-b4a20fcb1b03",
        "deepnote_to_be_reexecuted": false,
        "source_hash": "78c7f9b",
        "execution_millis": 48,
        "output_cleared": false,
        "execution_start": 1616860500884,
        "deepnote_cell_type": "code"
      },
      "source": "# Test\nnumbers = [1,5,48,59,14,12]\n\nprint(max_pairwise_product(numbers))\nprint(max_pairwise_naive(numbers))",
      "outputs": [
        {
          "name": "stdout",
          "text": "2832\n2832\n",
          "output_type": "stream"
        }
      ],
      "execution_count": null
    },
    {
      "cell_type": "markdown",
      "source": "### 200.000 number file test",
      "metadata": {
        "tags": [],
        "cell_id": "00042-7a0badeb-eaec-44f3-aa55-9e8e1a1276d6",
        "deepnote_cell_type": "markdown"
      }
    },
    {
      "cell_type": "code",
      "metadata": {
        "tags": [],
        "cell_id": "00042-1acabf0b-995f-4bb3-8716-6092c6290017",
        "deepnote_to_be_reexecuted": false,
        "source_hash": "805539ef",
        "execution_millis": 50698,
        "execution_start": 1616860500927,
        "deepnote_cell_type": "code"
      },
      "source": "#!python sum.py  < testfile.txt.txt> ptest1.txt\n#!grep -xvFf output1.txt ptest1.txt\n\nwith open('testfile.txt') as f:\n    mylist = list(map(int, f))\n\n#print(mylist[1])\n#print(mylist[8])\n#print(type(mylist))\n\n#print(mylist[1]*mylist[10])\n\nprint(max_pairwise_product(mylist))",
      "outputs": [
        {
          "output_type": "error",
          "ename": "KeyboardInterrupt",
          "evalue": "",
          "traceback": [
            "\u001b[0;31m---------------------------------------------------------------------------\u001b[0m",
            "\u001b[0;31mKeyboardInterrupt\u001b[0m                         Traceback (most recent call last)",
            "\u001b[0;32m<ipython-input-28-6aee787698d0>\u001b[0m in \u001b[0;36m<module>\u001b[0;34m\u001b[0m\n\u001b[1;32m     11\u001b[0m \u001b[0;31m#print(mylist[1]*mylist[10])\u001b[0m\u001b[0;34m\u001b[0m\u001b[0;34m\u001b[0m\u001b[0;34m\u001b[0m\u001b[0m\n\u001b[1;32m     12\u001b[0m \u001b[0;34m\u001b[0m\u001b[0m\n\u001b[0;32m---> 13\u001b[0;31m \u001b[0mprint\u001b[0m\u001b[0;34m(\u001b[0m\u001b[0mmax_pairwise_product\u001b[0m\u001b[0;34m(\u001b[0m\u001b[0mmylist\u001b[0m\u001b[0;34m)\u001b[0m\u001b[0;34m)\u001b[0m\u001b[0;34m\u001b[0m\u001b[0;34m\u001b[0m\u001b[0m\n\u001b[0m",
            "\u001b[0;32m<ipython-input-25-98637d300645>\u001b[0m in \u001b[0;36mmax_pairwise_product\u001b[0;34m(arr)\u001b[0m\n\u001b[1;32m      7\u001b[0m         \u001b[0;32mfor\u001b[0m \u001b[0msecond\u001b[0m \u001b[0;32min\u001b[0m \u001b[0mrange\u001b[0m\u001b[0;34m(\u001b[0m\u001b[0mfirst\u001b[0m \u001b[0;34m+\u001b[0m \u001b[0;36m1\u001b[0m\u001b[0;34m,\u001b[0m \u001b[0mn\u001b[0m\u001b[0;34m)\u001b[0m\u001b[0;34m:\u001b[0m\u001b[0;34m\u001b[0m\u001b[0;34m\u001b[0m\u001b[0m\n\u001b[1;32m      8\u001b[0m             max_product = max(max_product,\n\u001b[0;32m----> 9\u001b[0;31m                 arr[first] * arr[second])\n\u001b[0m\u001b[1;32m     10\u001b[0m     \u001b[0;32mreturn\u001b[0m \u001b[0mmax_product\u001b[0m\u001b[0;34m\u001b[0m\u001b[0;34m\u001b[0m\u001b[0m\n",
            "\u001b[0;31mKeyboardInterrupt\u001b[0m: "
          ]
        }
      ],
      "execution_count": null
    },
    {
      "cell_type": "markdown",
      "source": "### Stress testing",
      "metadata": {
        "tags": [],
        "cell_id": "00042-6b9c256e-4fbc-4869-b735-aaf9e201038d",
        "deepnote_cell_type": "markdown"
      }
    },
    {
      "cell_type": "code",
      "metadata": {
        "tags": [],
        "cell_id": "00041-662e2474-d43d-4249-b39e-b242a385f30a",
        "deepnote_to_be_reexecuted": false,
        "source_hash": "2b468ae4",
        "execution_millis": 278607,
        "output_cleared": false,
        "execution_start": 1616860557311,
        "deepnote_cell_type": "code"
      },
      "source": "# Stress testing\nfrom random import randint\n\ndef max_prod_stress(N,M):\n    while True:\n        n = randint(2,N)\n        A = [None]*n\n        for i in range(n):\n            A[i] = randint(0,M)\n        print(A)\n        result1 = max_pairwise_naive(A)\n        result2 = max_pairwise_product(A)\n        if result1==result2:\n            print('OK')\n        else:\n            print('Wrong answer:',result1,result2)\n            return\n\nmax_prod_stress(5,100)",
      "outputs": [
        {
          "name": "stdout",
          "text": "OK\n[81, 15, 15]\nOK\n[35, 37, 96]\nOK\n[61, 40, 91]\nOK\n[0, 14]\nOK\n[57, 100, 50, 100]\nOK\n[68, 50, 66, 100]\nOK\n[54, 57, 46, 32, 42]\nOK\n[1, 4]\nOK\n[90, 74, 9, 70, 14]\nOK\n[55, 0, 74, 92]\nOK\n[1, 79, 70, 84, 36]\nOK\n[38, 66, 12, 93]\nOK\n[50, 16, 23]\nOK\n[24, 10]\nOK\n[33, 54, 85, 15]\nOK\n[66, 12, 85, 23, 33]\nOK\n[99, 51]\nOK\n[6, 50, 95, 8, 61]\nOK\n[99, 100, 16, 3]\nOK\n[50, 31, 56, 22]\nOK\n[29, 62, 92]\nOK\n[90, 98]\nOK\n[59, 51, 17, 81]\nOK\n[64, 96, 44]\nOK\n[56, 1, 0]\nOK\n[44, 73, 1, 78]\nOK\n[28, 39, 26]\nOK\n[55, 38, 51, 90, 60]\nOK\n[51, 82]\nOK\n[8, 62, 55, 27]\nOK\n[23, 17, 73, 34, 83]\nOK\n[34, 29, 80]\nOK\n[98, 3, 89]\nOK\n[99, 27, 20, 91, 64]\nOK\n[82, 30, 94, 49]\nOK\n[55, 5, 25]\nOK\n[34, 3, 91]\nOK\n[1, 93, 71]\nOK\n[2, 53, 5, 97, 16]\nOK\n[34, 20, 88]\nOK\n[90, 50, 18, 27, 37]\nOK\n[1, 24, 63, 93, 65]\nOK\n[31, 49]\nOK\n[97, 15, 54]\nOK\n[32, 24, 38, 67]\nOK\n[18, 34]\nOK\n[12, 47]\nOK\n[95, 90]\nOK\n[41, 8, 21, 75]\nOK\n[86, 89, 39, 67, 35]\nOK\n[95, 54]\nOK\n[73, 20]\nOK\n[89, 48]\nOK\n[25, 63, 29, 19, 21]\nOK\n[68, 11]\nOK\n[94, 18, 95, 13]\nOK\n[60, 69, 79, 42]\nOK\n[39, 83, 62, 28, 17]\nOK\n[97, 99, 66, 27]\nOK\n[21, 38, 24]\nOK\n[71, 81, 95, 56]\nOK\n[58, 62, 42]\nOK\n[85, 23]\nOK\n[5, 4, 33, 9, 15]\nOK\n[76, 25]\nOK\n[88, 42]\nOK\n[76, 89, 12, 96]\nOK\n[67, 74, 32]\nOK\n[0, 64, 81]\nOK\n[1, 85]\nOK\n[24, 57]\nOK\n[27, 83, 33, 77]\nOK\n[25, 4]\nOK\n[96, 59, 9]\nOK\n[82, 26, 76]\nOK\n[19, 35]\nOK\n[19, 77]\nOK\n[82, 15]\nOK\n[71, 84, 29, 41, 84]\nOK\n[5, 72]\nOK\n[89, 71, 87, 80, 65]\nOK\n[22, 26, 81, 59, 35]\nOK\n[22, 46, 17, 26]\nOK\n[99, 22, 86, 82, 90]\nOK\n[89, 56, 16]\nOK\n[98, 47, 70, 78, 91]\nOK\n[63, 15, 72, 100, 47]\nOK\n[49, 10, 30, 4, 63]\nOK\n[76, 76]\nOK\n[27, 8, 40, 36]\nOK\n[10, 95, 48]\nOK\n[47, 23, 35, 66]\nOK\n[14, 5, 47, 6]\nOK\n[12, 71, 34, 92]\nOK\n[38, 0]\nOK\n[49, 11]\nOK\n[38, 33, 67]\nOK\n[97, 48, 66, 19]\nOK\n[24, 33, 3, 98]\nOK\n[28, 1, 71, 90]\nOK\n[50, 50, 31]\nOK\n[36, 96, 80]\nOK\n[74, 3]\nOK\n[11, 45, 3]\nOK\n[54, 17, 45, 47, 62]\nOK\n[6, 72]\nOK\n[9, 56, 96, 35, 71]\nOK\n[21, 78]\nOK\n[46, 72, 80, 1]\nOK\n[61, 60, 62, 11, 73]\nOK\n[15, 33, 71, 2]\nOK\n[96, 5, 2, 53]\nOK\n[31, 100, 66, 26]\nOK\n[93, 92, 25]\nOK\n[17, 83, 11]\nOK\n[43, 66, 1]\nOK\n[31, 40, 14]\nOK\n[49, 39, 55]\nOK\n[85, 93]\nOK\n[6, 70, 66]\nOK\n[72, 50]\nOK\n[77, 56, 11, 60]\nOK\n[79, 62, 84]\nOK\n[78, 53, 30, 45, 59]\nOK\n[20, 43, 15, 78]\nOK\n[81, 37]\nOK\n[97, 97, 25, 25]\nOK\n[25, 94, 13, 74, 44]\nOK\n[73, 3]\nOK\n[29, 49, 47, 74]\nOK\n[81, 7, 65, 41]\nOK\n[89, 73, 3, 81, 68]\nOK\n[13, 100, 67]\nOK\n[56, 77, 5, 8, 11]\nOK\n[16, 90, 92]\nOK\n[58, 29, 13, 76, 11]\nOK\n[53, 55, 25, 51, 71]\nOK\n[30, 43, 86, 41, 13]\nOK\n[40, 47, 35, 58, 55]\nOK\n[62, 34, 34, 39]\nOK\n[30, 92, 19, 95]\nOK\n[45, 95, 41]\nOK\n[35, 71, 1]\nOK\n[29, 69, 65, 90]\nOK\n[97, 39, 39, 62]\nOK\n[21, 11, 92, 99, 91]\nOK\n[94, 33]\nOK\n[88, 14, 30, 13]\nOK\n[90, 100, 26, 91]\nOK\n[70, 83, 33, 59, 6]\nOK\n[38, 88, 64]\nOK\n[7, 93]\nOK\n[42, 71, 84]\nOK\n[9, 22, 45, 43]\nOK\n[2, 0, 15]\nOK\n[18, 39, 77]\nOK\n[62, 92, 27]\nOK\n[78, 73]\nOK\n[33, 36]\nOK\n[81, 79, 96, 60, 35]\nOK\n[81, 28, 51]\nOK\n[52, 22, 44, 58]\nOK\n[0, 81, 62]\nOK\n[41, 3, 40, 98, 95]\nOK\n[29, 49]\nOK\n[21, 76, 13]\nOK\n[44, 28, 79, 16, 34]\nOK\n[11, 51, 26]\nOK\n[36, 15, 65, 57, 6]\nOK\n[63, 8, 61, 92, 28]\nOK\n[12, 72]\nOK\n[6, 93, 89]\nOK\n[30, 34, 8]\nOK\n[65, 92]\nOK\n[81, 17]\nOK\n[86, 92, 68, 28, 50]\nOK\n[2, 96]\nOK\n[49, 82, 68]\nOK\n[0, 53, 38, 44, 92]\nOK\n[83, 6, 77]\nOK\n[81, 84, 44, 86, 42]\nOK\n[70, 45, 56, 50, 9]\nOK\n[26, 3]\nOK\n[86, 97, 41]\nOK\n[92, 28, 36, 80, 57]\nOK\n[65, 7, 80, 79, 100]\nOK\n[57, 80]\nOK\n[54, 71, 18]\nOK\n[79, 4, 87, 48]\nOK\n[6, 22, 98, 43, 82]\nOK\n[62, 20, 91, 53]\nOK\n[35, 11, 51]\nOK\n[31, 24, 78, 4]\nOK\n[36, 59]\nOK\n[19, 2, 8, 97, 64]\nOK\n[76, 28, 60]\nOK\n[58, 74, 32, 54, 76]\nOK\n[87, 31, 53, 35]\nOK\n[25, 56]\nOK\n[34, 42, 28, 47, 30]\nOK\n[55, 13, 23, 4, 95]\nOK\n[97, 45]\nOK\n[39, 13, 70]\nOK\n[60, 79]\nOK\n[100, 51]\nOK\n[43, 75]\nOK\n[81, 1, 95]\nOK\n[49, 26]\nOK\n[42, 97]\nOK\n[41, 85, 42]\nOK\n[37, 85]\nOK\n[22, 10, 36, 42, 22]\nOK\n[48, 39, 8]\nOK\n[26, 33]\nOK\n[70, 15]\nOK\n[98, 90]\nOK\n[58, 18, 17, 36, 53]\nOK\n[11, 42, 25, 40]\nOK\n[60, 6]\nOK\n[11, 59, 67]\nOK\n[67, 38, 46]\nOK\n[13, 67, 73, 23]\nOK\n[4, 34, 12]\nOK\n[57, 35, 60, 33]\nOK\n[38, 11, 29, 55]\nOK\n[36, 74, 76, 39]\nOK\n[43, 61]\nOK\n[7, 10]\nOK\n[17, 33, 19, 80]\nOK\n[87, 18, 46]\nOK\n[37, 91, 82, 37, 65]\nOK\n[83, 50]\nOK\n[99, 27, 96, 57]\nOK\n[25, 73, 52, 51]\nOK\n[66, 50, 64, 87, 75]\nOK\n[95, 65, 62, 96]\nOK\n[78, 56]\nOK\n[13, 84, 59, 20, 88]\nOK\n[86, 14, 1]\nOK\n[69, 16, 42, 37, 14]\nOK\n[57, 28]\nOK\n[35, 73]\nOK\n[21, 19, 7, 68]\nOK\n[80, 25, 26, 91]\nOK\n[68, 74]\nOK\n[14, 83, 90]\nOK\n[74, 88, 55]\nOK\n[92, 99, 48]\nOK\n[31, 94, 86, 9]\nOK\n[99, 0]\nOK\n[29, 52, 36]\nOK\n[71, 23, 95, 71, 93]\nOK\n[21, 63, 67, 68]\nOK\n[66, 65]\nOK\n[67, 73]\nOK\n[25, 20]\nOK\n[12, 97, 87, 37, 17]\nOK\n[0, 35, 5, 67, 19]\nOK\n[43, 61, 33, 28, 75]\nOK\n[92, 54, 5]\nOK\n[96, 58]\nOK\n[4, 60, 6]\nOK\n[96, 17]\nOK\n[91, 74]\nOK\n[45, 23]\nOK\n[37, 85, 84]\nOK\n[38, 60, 30, 100, 74]\nOK\n[67, 68, 72, 17]\nOK\n[51, 43]\nOK\n[13, 97]\nOK\n[55, 34, 47]\nOK\n[74, 0, 41, 42]\nOK\n[69, 97, 83, 42]\nOK\n[60, 3]\nOK\n[100, 9]\nOK\n[13, 50]\nOK\n[4, 99, 7]\nOK\n[25, 67, 53, 62]\nOK\n[82, 39, 64, 49]\nOK\n[80, 12, 67]\nOK\n[48, 29]\nOK\n[40, 86, 75]\nOK\n[46, 35, 53]\nOK\n[33, 84, 99]\nOK\n[92, 44, 78, 38]\nOK\n[88, 12]\nOK\n[84, 23]\nOK\n[40, 32, 9, 5]\nOK\n[35, 8, 17]\nOK\n[50, 4, 54, 9, 58]\nOK\n[82, 78, 98, 77]\nOK\n[25, 29, 30, 8, 52]\nOK\n[66, 58, 2, 81, 32]\nOK\n[22, 76]\nOK\n[68, 58, 75]\nOK\n[17, 49, 95, 88]\nOK\n[94, 77]\nOK\n[73, 94, 84]\nOK\n[61, 7]\nOK\n[65, 35]\nOK\n[61, 57, 66, 20, 79]\nOK\n[90, 93, 56, 40, 8]\nOK\n[2, 24]\nOK\n[51, 73, 10, 13, 25]\nOK\n[71, 3]\nOK\n[96, 41, 29, 95]\nOK\n[80, 27, 65, 62, 15]\nOK\n[35, 20, 38]\nOK\n[12, 23]\nOK\n[98, 39, 95, 60, 77]\nOK\n[67, 20]\nOK\n[5, 10]\nOK\n[7, 94]\nOK\n[32, 2, 74, 83]\nOK\n[31, 45]\nOK\n[81, 33, 54, 33]\nOK\n[15, 44, 8, 87, 74]\nOK\n[45, 84, 74]\nOK\n[54, 66, 1, 29]\nOK\n[85, 80]\nOK\n[0, 25, 44, 43]\nOK\n[31, 57]\nOK\n[81, 0, 79, 23]\nOK\n[59, 97, 71, 41]\nOK\n[66, 87, 75, 67]\nOK\n[34, 81, 36, 4, 52]\nOK\n[11, 55, 29, 4]\nOK\n[95, 93, 47, 80]\nOK\n[85, 3]\nOK\n[100, 30]\nOK\n[8, 68, 85, 73, 25]\nOK\n[75, 48, 99, 5, 42]\nOK\n[89, 84, 61]\nOK\n[74, 60]\nOK\n[41, 68]\nOK\n[39, 47, 99, 12]\nOK\n[46, 36, 37]\nOK\n[47, 5]\nOK\n[100, 28]\nOK\n[37, 77, 1, 83]\nOK\n[48, 4, 8, 38]\nOK\n[88, 35]\nOK\n[33, 0, 47, 10, 31]\nOK\n[90, 45, 21, 17, 78]\nOK\n[2, 88, 12, 64]\nOK\n[83, 15, 13, 100]\nOK\n[11, 85, 81, 94]\nOK\n[38, 39, 34, 92, 69]\nOK\n[38, 12, 51]\nOK\n[1, 88, 14, 56, 11]\nOK\n[61, 13]\nOK\n[30, 9, 90, 41]\nOK\n[55, 76, 15, 60]\nOK\n[95, 46, 62]\nOK\n[82, 54, 13]\nOK\n[18, 35, 65]\nOK\n[92, 1, 56, 53, 78]\nOK\n[14, 94, 3, 4]\nOK\n[8, 98, 27, 48, 52]\nOK\n[88, 76, 9, 69, 76]\nOK\n[29, 55, 99]\nOK\n[39, 34, 7, 38, 28]\nOK\n[93, 100, 28, 30, 70]\nOK\n[28, 72, 35, 27]\nOK\n[55, 59, 100, 0, 73]\nOK\n[27, 29, 64, 32, 72]\nOK\n[52, 76, 48]\nOK\n[78, 86]\nOK\n[74, 19]\nOK\n[97, 32, 71, 95]\nOK\n[74, 5]\nOK\n[18, 12]\nOK\n[23, 65, 74, 83, 50]\nOK\n[24, 47, 24, 67, 81]\nOK\n[50, 76, 43]\nOK\n[84, 90, 7, 67]\nOK\n[93, 52, 47]\nOK\n[53, 78, 28, 98, 74]\nOK\n[31, 60, 44, 87]\nOK\n[93, 24, 96]\nOK\n[75, 37, 68]\nOK\n[57, 72, 5, 71]\nOK\n[2, 40, 90, 91, 18]\nOK\n[78, 5, 64, 86, 82]\nOK\n[42, 3, 39]\nOK\n[79, 75, 41]\nOK\n[30, 30, 43]\nOK\n[85, 40]\nOK\n[28, 69]\nOK\n[35, 55, 12, 86, 35]\nOK\n[40, 92, 88]\nOK\n[100, 95, 60, 11]\nOK\n[20, 57, 0, 25, 63]\nOK\n[12, 73, 2]\nOK\n[66, 61, 55]\nOK\n[97, 59, 56]\nOK\n[33, 31, 73, 24]\nOK\n[42, 8]\nOK\n[45, 25]\nOK\n[65, 64, 43, 17, 45]\nOK\n[35, 15, 30, 93, 52]\nOK\n[51, 89, 44, 62, 56]\nOK\n[71, 23, 96, 24, 63]\nOK\n[98, 24]\nOK\n[85, 27, 85, 85]\nOK\n[41, 92, 87]\nOK\n[17, 92, 82, 56]\nOK\n[41, 45]\nOK\n[76, 41, 9, 86]\nOK\n[46, 66]\nOK\n[5, 61]\nOK\n[91, 73, 35, 12]\nOK\n[89, 11]\nOK\n[47, 55, 11, 87, 4]\nOK\n[99, 39, 90, 7, 35]\nOK\n[85, 97]\nOK\n[3, 98]\nOK\n[20, 75, 22, 38]\nOK\n[17, 58, 91, 66, 61]\nOK\n[62, 38, 33]\nOK\n[6, 25, 13, 83]\nOK\n[71, 28, 96, 77, 41]\nOK\n[29, 75, 79, 39]\nOK\n[88, 93, 58, 49, 20]\nOK\n[83, 79]\nOK\n[38, 48, 6]\nOK\n[85, 17]\nOK\n[33, 93, 13]\nOK\n[82, 39]\nOK\n[40, 88, 20, 45, 56]\nOK\n[66, 78, 77, 43]\nOK\n[63, 36]\nOK\n[75, 63, 87, 1]\nOK\n[43, 93, 31, 7]\nOK\n[42, 38, 79, 61, 65]\nOK\n[45, 15, 98, 71, 40]\nOK\n[43, 7]\nOK\n[81, 42, 84, 91]\nOK\n[76, 26, 70, 49]\nOK\n[80, 15, 12, 35, 8]\nOK\n[40, 78, 68, 77]\nOK\n[45, 41]\nOK\n[41, 14]\nOK\n[52, 45, 90, 0]\nOK\n[98, 81]\nOK\n[34, 13, 42]\nOK\n[74, 91, 14, 39, 5]\nOK\n[82, 31, 5]\nOK\n[4, 13, 24]\nOK\n[39, 87, 57, 16, 72]\nOK\n[36, 93, 47, 55]\nOK\n[82, 1]\nOK\n[96, 17, 48, 88, 60]\nOK\n[80, 55]\nOK\n[57, 93, 51, 61, 29]\nOK\n[94, 71, 59]\nOK\n[34, 50, 72, 50]\nOK\n[66, 100, 99]\nOK\n[33, 10]\nOK\n[48, 56, 97, 34]\nOK\n[29, 20, 19, 12, 96]\nOK\n[58, 64, 52]\nOK\n[40, 48, 52, 86, 81]\nOK\n[11, 53, 59, 52, 15]\nOK\n[44, 19, 100]\nOK\n[20, 80, 31, 13, 61]\nOK\n[24, 35]\nOK\n[88, 80, 69, 87]\nOK\n[15, 55]\nOK\n[87, 59, 81]\nOK\n[13, 96, 32]\nOK\n[74, 2]\nOK\n[2, 14, 29, 64, 96]\nOK\n[62, 98, 13]\nOK\n[55, 89, 5, 88, 62]\nOK\n[99, 23]\nOK\n[72, 0, 18]\nOK\n[86, 86, 32, 31, 59]\nOK\n[83, 11, 78, 17, 14]\nOK\n[49, 47, 1, 52]\nOK\n[85, 74, 49, 12, 78]\nOK\n[50, 39, 68, 22, 19]\nOK\n[21, 13, 94]\nOK\n[63, 59, 10, 87]\nOK\n[15, 34, 62, 48, 93]\nOK\n[16, 13, 11, 99, 88]\nOK\n[9, 100]\nOK\n[52, 77, 35]\nOK\n[86, 13]\nOK\n[49, 66]\nOK\n[8, 85]\nOK\n[6, 35, 36]\nOK\n[100, 16, 1, 21, 46]\nOK\n[99, 90, 96, 33]\nOK\n[63, 67, 79]\nOK\n[76, 31, 64]\nOK\n[4, 95, 48, 42]\nOK\n[1, 65, 93]\nOK\n[97, 25, 38]\nOK\n",
          "output_type": "stream"
        },
        {
          "output_type": "error",
          "ename": "KeyboardInterrupt",
          "evalue": "",
          "traceback": [
            "\u001b[0;31m---------------------------------------------------------------------------\u001b[0m",
            "\u001b[0;31mKeyboardInterrupt\u001b[0m                         Traceback (most recent call last)",
            "\u001b[0;32m<ipython-input-29-46651b4d675c>\u001b[0m in \u001b[0;36m<module>\u001b[0;34m\u001b[0m\n\u001b[1;32m     17\u001b[0m             \u001b[0;32mreturn\u001b[0m\u001b[0;34m\u001b[0m\u001b[0;34m\u001b[0m\u001b[0m\n\u001b[1;32m     18\u001b[0m \u001b[0;34m\u001b[0m\u001b[0m\n\u001b[0;32m---> 19\u001b[0;31m \u001b[0mmax_prod_stress\u001b[0m\u001b[0;34m(\u001b[0m\u001b[0;36m5\u001b[0m\u001b[0;34m,\u001b[0m\u001b[0;36m100\u001b[0m\u001b[0;34m)\u001b[0m\u001b[0;34m\u001b[0m\u001b[0;34m\u001b[0m\u001b[0m\n\u001b[0m",
            "\u001b[0;32m<ipython-input-29-46651b4d675c>\u001b[0m in \u001b[0;36mmax_prod_stress\u001b[0;34m(N, M)\u001b[0m\n\u001b[1;32m      7\u001b[0m         \u001b[0mA\u001b[0m \u001b[0;34m=\u001b[0m \u001b[0;34m[\u001b[0m\u001b[0;32mNone\u001b[0m\u001b[0;34m]\u001b[0m\u001b[0;34m*\u001b[0m\u001b[0mn\u001b[0m\u001b[0;34m\u001b[0m\u001b[0;34m\u001b[0m\u001b[0m\n\u001b[1;32m      8\u001b[0m         \u001b[0;32mfor\u001b[0m \u001b[0mi\u001b[0m \u001b[0;32min\u001b[0m \u001b[0mrange\u001b[0m\u001b[0;34m(\u001b[0m\u001b[0mn\u001b[0m\u001b[0;34m)\u001b[0m\u001b[0;34m:\u001b[0m\u001b[0;34m\u001b[0m\u001b[0;34m\u001b[0m\u001b[0m\n\u001b[0;32m----> 9\u001b[0;31m             \u001b[0mA\u001b[0m\u001b[0;34m[\u001b[0m\u001b[0mi\u001b[0m\u001b[0;34m]\u001b[0m \u001b[0;34m=\u001b[0m \u001b[0mrandint\u001b[0m\u001b[0;34m(\u001b[0m\u001b[0;36m0\u001b[0m\u001b[0;34m,\u001b[0m\u001b[0mM\u001b[0m\u001b[0;34m)\u001b[0m\u001b[0;34m\u001b[0m\u001b[0;34m\u001b[0m\u001b[0m\n\u001b[0m\u001b[1;32m     10\u001b[0m         \u001b[0mprint\u001b[0m\u001b[0;34m(\u001b[0m\u001b[0mA\u001b[0m\u001b[0;34m)\u001b[0m\u001b[0;34m\u001b[0m\u001b[0;34m\u001b[0m\u001b[0m\n\u001b[1;32m     11\u001b[0m         \u001b[0mresult1\u001b[0m \u001b[0;34m=\u001b[0m \u001b[0mmax_pairwise_naive\u001b[0m\u001b[0;34m(\u001b[0m\u001b[0mA\u001b[0m\u001b[0;34m)\u001b[0m\u001b[0;34m\u001b[0m\u001b[0;34m\u001b[0m\u001b[0m\n",
            "\u001b[0;32m/usr/local/lib/python3.7/random.py\u001b[0m in \u001b[0;36mrandint\u001b[0;34m(self, a, b)\u001b[0m\n\u001b[1;32m    220\u001b[0m         \"\"\"\n\u001b[1;32m    221\u001b[0m \u001b[0;34m\u001b[0m\u001b[0m\n\u001b[0;32m--> 222\u001b[0;31m         \u001b[0;32mreturn\u001b[0m \u001b[0mself\u001b[0m\u001b[0;34m.\u001b[0m\u001b[0mrandrange\u001b[0m\u001b[0;34m(\u001b[0m\u001b[0ma\u001b[0m\u001b[0;34m,\u001b[0m \u001b[0mb\u001b[0m\u001b[0;34m+\u001b[0m\u001b[0;36m1\u001b[0m\u001b[0;34m)\u001b[0m\u001b[0;34m\u001b[0m\u001b[0;34m\u001b[0m\u001b[0m\n\u001b[0m\u001b[1;32m    223\u001b[0m \u001b[0;34m\u001b[0m\u001b[0m\n\u001b[1;32m    224\u001b[0m     def _randbelow(self, n, int=int, maxsize=1<<BPF, type=type,\n",
            "\u001b[0;32m/usr/local/lib/python3.7/random.py\u001b[0m in \u001b[0;36mrandrange\u001b[0;34m(self, start, stop, step, _int)\u001b[0m\n\u001b[1;32m    191\u001b[0m \u001b[0;34m\u001b[0m\u001b[0m\n\u001b[1;32m    192\u001b[0m         \u001b[0;31m# stop argument supplied.\u001b[0m\u001b[0;34m\u001b[0m\u001b[0;34m\u001b[0m\u001b[0;34m\u001b[0m\u001b[0m\n\u001b[0;32m--> 193\u001b[0;31m         \u001b[0mistop\u001b[0m \u001b[0;34m=\u001b[0m \u001b[0m_int\u001b[0m\u001b[0;34m(\u001b[0m\u001b[0mstop\u001b[0m\u001b[0;34m)\u001b[0m\u001b[0;34m\u001b[0m\u001b[0;34m\u001b[0m\u001b[0m\n\u001b[0m\u001b[1;32m    194\u001b[0m         \u001b[0;32mif\u001b[0m \u001b[0mistop\u001b[0m \u001b[0;34m!=\u001b[0m \u001b[0mstop\u001b[0m\u001b[0;34m:\u001b[0m\u001b[0;34m\u001b[0m\u001b[0;34m\u001b[0m\u001b[0m\n\u001b[1;32m    195\u001b[0m             \u001b[0;32mraise\u001b[0m \u001b[0mValueError\u001b[0m\u001b[0;34m(\u001b[0m\u001b[0;34m\"non-integer stop for randrange()\"\u001b[0m\u001b[0;34m)\u001b[0m\u001b[0;34m\u001b[0m\u001b[0;34m\u001b[0m\u001b[0m\n",
            "\u001b[0;31mKeyboardInterrupt\u001b[0m: "
          ]
        }
      ],
      "execution_count": null
    },
    {
      "cell_type": "markdown",
      "source": "<a style='text-decoration:none;line-height:16px;display:flex;color:#5B5B62;padding:10px;justify-content:end;' href='https://deepnote.com?utm_source=created-in-deepnote-cell&projectId=3f8c6564-39de-458b-9d41-98dba29a0d7c' target=\"_blank\">\n<img style='display:inline;max-height:16px;margin:0px;margin-right:7.5px;' src='data:image/svg+xml;base64,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' > </img>\nCreated in <span style='font-weight:600;margin-left:4px;'>Deepnote</span></a>",
      "metadata": {
        "tags": [],
        "created_in_deepnote_cell": true,
        "deepnote_cell_type": "markdown"
      }
    }
  ],
  "nbformat": 4,
  "nbformat_minor": 0,
  "metadata": {
    "colab": {
      "name": "gjhernandezpAlgorithmicToolboxWeek1.ipynb",
      "provenance": [],
      "collapsed_sections": []
    },
    "kernelspec": {
      "name": "python3",
      "display_name": "Python 3"
    },
    "language_info": {
      "name": "python"
    },
    "deepnote_notebook_id": "dad4708c-57c3-448b-89f7-e7b5f7257efa",
    "deepnote": {},
    "deepnote_execution_queue": []
  }
}