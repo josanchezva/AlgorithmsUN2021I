{
  "nbformat": 4,
  "nbformat_minor": 0,
  "metadata": {
    "colab": {
      "name": "josanchezvaArithmeticSeriesPowerSeriesPowerSums.ipynb",
      "provenance": [],
      "collapsed_sections": []
    },
    "kernelspec": {
      "name": "python3",
      "display_name": "Python 3"
    }
  },
  "cells": [
    {
      "cell_type": "markdown",
      "metadata": {
        "id": "c3yA6JE1wmSH"
      },
      "source": [
        "# Arithmetic Series\n"
      ]
    },
    {
      "cell_type": "markdown",
      "metadata": {
        "id": "r4rXWI4gCN5B"
      },
      "source": [
        "## Modified from Arithmetic Series -  [Wolfram MathWorld](https://mathworld.wolfram.com/ArithmeticSeries.html)\n",
        "\n",
        "\n",
        "An arithmetic sequence $\\{a_k\\}$ for $k=1, 2, ..., $ in which each term is computed from the previous one by adding (or subtracting) a constant $d$. \n",
        "\n",
        "\\begin{align*}\n",
        "a_1 & \\\\\n",
        "a_2 &\\ \\ =\\ \\ a_1 + d  \\\\\n",
        "a_3 &\\ \\ =\\ \\ a_2 + d \\ \\ =\\ \\ a_1 + 2d   \\\\\n",
        "a_4 &\\ \\ =\\ \\ a_3 + d \\ \\ =\\ \\ a_2 + 2d \\ \\ =\\ \\ a_1 + 3d  \\\\\n",
        "\\vdots\\\\\n",
        "a_k &\\ \\ =\\ \\ a_{(k-1)}+d \\ =\\  a_{(k-2)}+2d \\ =\\  \\ldots \\ =\\  \\ a_1+(k-1)d\n",
        "\\end{align*}\n",
        "\n",
        "Therefore, for $k>=1$,\n",
        "\n",
        "$$ a_k = a_1 + (k-1)d$$\n",
        "\n",
        "With $a_1$ and $d$ given.\n",
        "\n",
        "<br /> \n",
        "\n",
        "The sequence of the partial sum of the first $n$ terms of a sequence is called a series, in the case of an arithemetic sequence the series is called an arithmetic series.\n",
        "\n",
        "If  $a_1= 1$ and $d=1$ we have, the simplest arithmnetic sequence,  the natural numbers sequence $\\{a_k = k \\}$ for  $k=1, 2, ..., $  i.e. the seuqnece\n",
        "$$1, 2, ...,$$\n",
        "The  corresponmding series is \n",
        "$$ \n",
        "S_n = 1 + 2+ \\ldots + (n-1)+ n = \\sum_{k=1}^n k\n",
        "$$\n",
        "can be calculated as a function of $n$.\n",
        "\n",
        "Assume that we allign one $S_{n-1}$ with a second  $S_{n-1}$ that have the terms adden reverse order and you add term to term, we have\n",
        "\\begin{array}{llclclclclc}\n",
        "  S_{n-1} &=& 1 &+& 2 &+& \\ldots &+& (n-2) &+& (n-1) \\\\\n",
        "  S_{n-1} &=& (n-1)  &+& (n-2)  &+& \\ldots   &+& 2   &+& 1 \\\\\n",
        "   \\hline \\\\\n",
        "   2S_{n-1} &=& n  &+& n  &+& \\ldots   &+& n   &+& n \\\\\n",
        "\\end{array}\n",
        "so\n",
        "$$  2S_{n-1} = (n-1)n $$\n",
        "then\n",
        "$$  S_{n-1} = \\frac{1}{2} (n-1)n$$\n",
        "therefore \n",
        "$$  S_{n} = \\frac{1}{2} n(n+1)$$\n",
        "\n",
        "\n",
        "\\begin{align*}\n",
        "S_n &= \\sum_{k=1}^n a_k\t\\\\\n",
        "    &= \\sum_{k=1}^n[a_1+(k-1)d]\t\t\\\\\n",
        "    &= na_1 + d \\sum_{k=1}^n(k-1)\t\\\\\n",
        "    &= na_1 + d \\sum_{k=0}^{n-1} k\t\\\\\n",
        "    &= na_1 + d \\sum_{k=1}^{n-1} k\t\\\\\n",
        "    &= na_1 +  \\frac{1}{2} d(n-1)n\\\\\n",
        "\\end{align*}\n",
        "so \n",
        "$$ S_n =  \\frac{1}{2} n[2 a_1 +d(n-1)].$$\n",
        "\n",
        "Note, however, that\n",
        "$$a_1+a_n=a_1+[a_1+d(n-1)]=2a_1+d(n-1),$$ \t\n",
        "so\n",
        "$$S_n = \\frac{1}{2}n(a_1+a_n),$$\n",
        "\n",
        "\n",
        "or $n$ times the arithmetic mean of the first and last terms! This is the trick Gauss used as a schoolboy to solve the problem of summing the integers from $1$ to $100$ given as busy-work by his teacher. While his classmates toiled away doing the addition longhand, Gauss wrote a single number, the correct answer\n",
        "\n",
        "$$\\frac{1}{2}(100)(1+100)=50·101=5050$$ \t\n",
        "on his slate (Burton 1989, pp. 80-81; Hoffman 1998, p. 207). When the answers were examined, Gauss's proved to be the only correct one.\n",
        "\n",
        "<br /> \n",
        "\n",
        "If  the sequence starts at index $0$, $\\{a_k\\}$ for $ k=0, 1, 2, ..., $ we have\n",
        "\n",
        "\\begin{align*}\n",
        "a_0 & \\\\\n",
        "a_1 &\\ \\ =\\ \\ a_0 + d  \\\\\n",
        "a_2 &\\ \\ =\\ \\ a_1 + d \\ \\ =\\ \\ a_0 + 2d   \\\\\n",
        "a_3 &\\ \\ =\\ \\ a_2 + d \\ \\ =\\ \\ a_1 + 2d \\ \\ =\\ \\ a_0 + 3d  \\\\\n",
        "\\vdots\\\\\n",
        "a_k &\\ \\ =\\ \\ a_{(k-1)}+d \\ =\\  a_{(k-2)}+2d \\ =\\  \\ldots \\ = \\  \\ a_1+(k-1)d \\ \\ =\\ \\ a_0+kd\n",
        "\\end{align*}\n",
        "\n",
        "<br /> \n",
        "for given   $a_0$ and $d$.\n",
        "\n",
        "In this case the sum of the first $n$ terms  of  the arithemnetic sequence  is then given by\n",
        "\\begin{align*}\n",
        "S_n &= \\sum_{k=0}^{n-1} a_k\t\\\\\n",
        "    &= \\sum_{k=0}^{n-1}[a_0+kd]\t\t\\\\\n",
        "    &= n a_0 + d \\sum_{k=0}^{n-1} k\t\\\\\n",
        "    &= n a_0 + d \\sum_{k=1}^{n-1} k\t\\\\\n",
        "    &= n a_0+  \\frac{1}{2} d(n-1)n \\\\\n",
        "\\end{align*}\n",
        "so \n",
        "$$ S_n =  \\frac{1}{2} n[2 a_0 + d(n-1)].$$\n",
        "<br /> \n",
        "\n"
      ]
    },
    {
      "cell_type": "markdown",
      "metadata": {
        "id": "GfBh-QHRcods"
      },
      "source": [
        "### Code\n",
        "####  The simplest arithmetic sequence and series\n",
        "\n",
        "The simplest arithmnetic sequence is \n",
        "\n",
        "\n",
        "$$S_n = 1, 2, ...,$$"
      ]
    },
    {
      "cell_type": "markdown",
      "metadata": {
        "id": "n36eWqEXiktl"
      },
      "source": [
        "The following code plots the first $n = 15$ terms of the simplest arithmnetic sequence \n",
        "$$\\{a_n = n\\} \\text{ for } n =1,2,\\ldots  $$\n",
        "i.e\n",
        "$$\\{a_n = n\\} =1,2,\\ldots $$\n",
        "adn the corresponding terms of the simplest arithmnetic series \n",
        "$$  S_n = 1 + 2+ \\ldots + (n-1)+ n = \\sum_{k=1}^n =  \\frac{1}{2} n(n+1)$$\n"
      ]
    },
    {
      "cell_type": "markdown",
      "metadata": {
        "id": "_VyGiunIZknK"
      },
      "source": [
        "Plot"
      ]
    },
    {
      "cell_type": "code",
      "metadata": {
        "colab": {
          "base_uri": "https://localhost:8080/",
          "height": 282
        },
        "id": "gx3Q4uo-ONCi",
        "outputId": "f1500048-47cd-4e27-cef4-b93cc165a54c"
      },
      "source": [
        "import matplotlib.pyplot as plt\n",
        "\n",
        "n = 15\n",
        "S_n = 0\n",
        "Serie_S_n=[]\n",
        "Sequence_a_n =[]\n",
        "for i in range(1,n+1):\n",
        "  S_n = S_n + i\n",
        "  Serie_S_n.append(S_n)\n",
        "  Sequence_a_n.append(i)\n",
        " \n",
        "plt.plot(Serie_S_n, color='black',label='Serie_S_n')\n",
        "plt.plot(Sequence_a_n, color='red',label='Sequence_a_n')\n",
        "plt.legend()\n",
        "\n",
        "\n"
      ],
      "execution_count": null,
      "outputs": [
        {
          "output_type": "execute_result",
          "data": {
            "text/plain": [
              "<matplotlib.legend.Legend at 0x7f8276cde390>"
            ]
          },
          "metadata": {
            "tags": []
          },
          "execution_count": 32
        },
        {
          "output_type": "display_data",
          "data": {
            "image/png": "[encoded data removed]",
            "text/plain": [
              "<Figure size 432x288 with 1 Axes>"
            ]
          },
          "metadata": {
            "tags": [],
            "needs_background": "light"
          }
        }
      ]
    },
    {
      "cell_type": "markdown",
      "metadata": {
        "id": "0ybfJdHxZGvW"
      },
      "source": [
        "The following code computes the  $n=10000000$  term of the airthmetic series\n",
        "$$  S_n = 1 + 2+ \\ldots + (n-1)+ n = \\sum_{k=1}^n =  \\frac{1}{2} n(n+1)$$"
      ]
    },
    {
      "cell_type": "code",
      "metadata": {
        "colab": {
          "base_uri": "https://localhost:8080/"
        },
        "id": "99xYHDQycnol",
        "outputId": "b9b4c166-aa1a-43ab-d79f-65236800cb3b"
      },
      "source": [
        "n = 10000000\n",
        "S_n = 0\n",
        "for i in range(1,n+1):  # range(n+1) goes form 1 to n\n",
        "  S_n = S_n + i \n",
        "print(S_n)"
      ],
      "execution_count": null,
      "outputs": [
        {
          "output_type": "stream",
          "text": [
            "50000005000000\n"
          ],
          "name": "stdout"
        }
      ]
    },
    {
      "cell_type": "code",
      "metadata": {
        "colab": {
          "base_uri": "https://localhost:8080/"
        },
        "id": "RGCSuDGHeFwH",
        "outputId": "5e7a2195-4d5f-472b-d8c7-4d56e368bad9"
      },
      "source": [
        "(1/2)*n*(n+1)"
      ],
      "execution_count": null,
      "outputs": [
        {
          "output_type": "execute_result",
          "data": {
            "text/plain": [
              "50000005000000.0"
            ]
          },
          "metadata": {
            "tags": []
          },
          "execution_count": 3
        }
      ]
    },
    {
      "cell_type": "markdown",
      "metadata": {
        "id": "bg8zxAhcecpk"
      },
      "source": [
        "The following code computes the $n=10000000$ term of the airthmetic series \n",
        "$$ S_n  = \\sum_{k=1}^n a_k$$\n",
        "\n",
        "<br /> \n",
        "for the airthmetic sequence $a_k = 10 + 3 (k-1) $ for $k=1,2,\\ldots$\n",
        "\n",
        "<br /> \n",
        "$$ 10,13,16,19,21,\\ldots$$\n"
      ]
    },
    {
      "cell_type": "markdown",
      "metadata": {
        "id": "hg3ixQ3bZiVh"
      },
      "source": [
        "Plot"
      ]
    },
    {
      "cell_type": "code",
      "metadata": {
        "colab": {
          "base_uri": "https://localhost:8080/"
        },
        "id": "w8FP1XqSgnie",
        "outputId": "6cce9c3d-d5ff-40bf-bcc6-fa5c53b26d38"
      },
      "source": [
        "n = 10000000\n",
        "a = 10\n",
        "d = 3\n",
        "S_n = 0\n",
        "for i in range(1,n+1):  # range(n+19 goes form 1 to n\n",
        "  S_n = S_n + a + d * (i-1) \n",
        "print(S_n)"
      ],
      "execution_count": null,
      "outputs": [
        {
          "output_type": "stream",
          "text": [
            "150000085000000\n"
          ],
          "name": "stdout"
        }
      ]
    },
    {
      "cell_type": "code",
      "metadata": {
        "colab": {
          "base_uri": "https://localhost:8080/"
        },
        "id": "g_38RfB_hgg2",
        "outputId": "da72b6aa-3073-4ce6-a5b4-92efbf6ae8b1"
      },
      "source": [
        "n*(2*a +d*(n-1))/2"
      ],
      "execution_count": null,
      "outputs": [
        {
          "output_type": "execute_result",
          "data": {
            "text/plain": [
              "150000085000000.0"
            ]
          },
          "metadata": {
            "tags": []
          },
          "execution_count": 5
        }
      ]
    },
    {
      "cell_type": "markdown",
      "metadata": {
        "id": "r9qzONSlZq2q"
      },
      "source": [
        "## Your own example of arithmetic series "
      ]
    },
    {
      "cell_type": "markdown",
      "metadata": {
        "id": "BruFNcwszo_k"
      },
      "source": [
        "###Arithmetic series with 4 as a constant difference\n",
        "\n",
        "A series such as 3 + 7 + 11 + 15 + ··· + 99 or 10 + 20 + 30 + ··· + 1000 which has a constant difference between terms. The first term is a1, the common difference is d, and the number of terms is n. The sum of an arithmetic series is found by multiplying the number of terms times the average of the first and last terms.\n",
        "\n",
        "3 + 7 + 11 + 15 + ··· + 99 has a1 = 3 and d = 4. To find n, use the explicit formula for an arithmetic sequence.\n",
        "\n",
        "We solve 3 + (n – 1)·4 = 99 to get n = 25.\n",
        "\n",
        "For this case $S_n= 25 \\frac{3+99}{2}=1275$\n",
        "\n",
        "\n",
        "Plugging in a formula $S_n= n \\frac{a_1+a_n}{2}$\n",
        "\n",
        "\n",
        "\n",
        "\n"
      ]
    },
    {
      "cell_type": "code",
      "metadata": {
        "id": "sJ1yhp4lNVw9",
        "colab": {
          "base_uri": "https://localhost:8080/",
          "height": 316
        },
        "outputId": "d523aed5-a419-4d21-c2ba-5c8179c3c65d"
      },
      "source": [
        "# E.g.\n",
        "\n",
        "#Knowing the last and first term in the series we have to find the quantity of terms (n)\n",
        "def findn(first,last,d):\n",
        "  return (last-first)/d+1\n",
        "def arithmeticsum(n,first,last) :\n",
        "    n=n*(first+last)/2\n",
        "    return n\n",
        "\n",
        "    \n",
        "def series(n,d,first):\n",
        "  S_m=[]\n",
        "  for i in range(n):\n",
        "    S_m.append(first+(i*d))\n",
        "  return S_m\n",
        "# Main program\n",
        "\n",
        "last_term=99\n",
        "first_term=3\n",
        "d=4\n",
        "n=int(findn(first_term,last_term,d))\n",
        "print(\"There is \"+str(n)+ \" terms\")\n",
        "print(\"The result of the series is \"+ str(arithmeticsum(n,first_term,last_term)))\n",
        "S_n=series(n,d,first_term);\n",
        "print(\"The elements of the series are: \" +str(S_n))\n",
        "\n",
        "\n",
        "plt.plot(S_n, color='blue',label='Serie_S_n');\n",
        "plt.legend();\n"
      ],
      "execution_count": null,
      "outputs": [
        {
          "output_type": "stream",
          "text": [
            "There is 25 terms\n",
            "The result of the series is 1275.0\n",
            "The elements of the series are:[3, 7, 11, 15, 19, 23, 27, 31, 35, 39, 43, 47, 51, 55, 59, 63, 67, 71, 75, 79, 83, 87, 91, 95, 99]\n"
          ],
          "name": "stdout"
        },
        {
          "output_type": "display_data",
          "data": {
            "image/png": "[encoded data removed]",
            "text/plain": [
              "<Figure size 432x288 with 1 Axes>"
            ]
          },
          "metadata": {
            "tags": [],
            "needs_background": "light"
          }
        }
      ]
    },
    {
      "cell_type": "markdown",
      "metadata": {
        "id": "AKWJ1F7hac8T"
      },
      "source": [
        "# Geometric Series\n",
        "\n",
        "## Modified from Arithmetic Series -  [Wolfram MathWorld](https://mathworld.wolfram.com/GeometricSeries.html)\n"
      ]
    },
    {
      "cell_type": "markdown",
      "metadata": {
        "id": "W5zx_-nR81GI"
      },
      "source": [
        "An geometric series is the sum of a sequence $\\{a_k\\}$ for $k=1, 2, ..., $ in which each term is computed from the previous one by adding (or subtracting) a constant $d$. \n",
        "\n",
        "\\begin{align*}\n",
        "a_0 &\\ \\ =\\ \\ r^0 \\ \\ =\\ \\ 1\\\\\n",
        "a_1 &\\ \\ =\\ \\ a_0 *  r \\ \\ =\\ \\  r\\\\\n",
        "a_2 &\\ \\ =\\ \\ a_1 * r\\ \\ =\\ \\ a_0 * r^2  \\ \\ =\\ \\ r^2 \\\\\n",
        "a_3 &\\ \\ =\\ \\ a_2 * r \\ \\ =\\ \\ a_0 * r^3 \\ \\ =\\ \\  r^3  \\\\\n",
        "a_4 &\\ \\ =\\ \\ a_3 * r\\ \\  =\\ \\ a_0 * r^4 \\ \\  =\\ \\ r^4  \\\\\n",
        "\\vdots\\\\\n",
        "a_k &\\ \\ =\\ \\ a_{(k-1)}* r \\ =\\   a_0 * r^k \\ \\  =\\ \\  r^k\n",
        "\\end{align*}\n",
        "\n",
        "The sum of the first $n$ terms  of  the geometric sequence (called an geometric serie)  is then given by\n",
        "$$\n",
        "\\begin{array}{ll}\n",
        "S_n &=  1 + r + r^2 + \\cdots + r^{n-1} +r^n \\\\\n",
        " &=  (1 + r + r^2 + \\cdots + r^{n-1} ) +r^n \\\\\n",
        " &= S_{n-1}  +r^n \n",
        "\\end{array}\n",
        "$$\n",
        "\n",
        "$$\n",
        "\\begin{array}{ll}\n",
        "S_n &=  1 + r + r^2 + \\cdots + r^{n-1} +r^n \\\\\n",
        " &=  1 + (r + r^2 + \\cdots + r^{n-1}  +r^n)  \\\\\n",
        " &=   1 + r (1 +  r  + r^2 + \\cdots + r^{n-1} )  \\\\\n",
        "  &=   1 + r   S_{n-1} \n",
        "\\end{array}\n",
        "$$\n",
        "\n",
        "Then\n",
        "$$\n",
        " S_{n-1}  +r^n =   1 + r   S_{n-1} \n",
        "$$\n",
        "\n",
        "Therefore\n",
        "$$\n",
        " S_{n-1} (1 -r)   +r^n =   1 - r^n \n",
        "$$\n",
        "\n",
        "$$\n",
        " S_{n-1}   =   \\frac{1 - r^n }{1 -r}\n",
        "$$\n",
        "\n",
        "$$\n",
        " S_{n}   =   \\frac{1 - r^{n+1} }{1 -r}  = \\frac{ r^{n+1} - 1}{r -1}\n",
        "$$\n"
      ]
    },
    {
      "cell_type": "markdown",
      "metadata": {
        "id": "CDUYfT8k8crr"
      },
      "source": [
        "## Nodes in Complete Binary Tree with $L=0,1,2,\\cdots , L-1$ levels \n",
        "\n",
        "![](https://raw.githubusercontent.com/gjhernandezp/algorithms/master/Lab7/ComBinTree.png)\n",
        "\n",
        "In a complete binary tree you have in ecah level $k =0,1,2,\\cdots $  $ 2^k $\n",
        "\n",
        "$$\n",
        "\\begin{array}{ll}\n",
        "\\text {Level } 0 \\rightarrow 2^0 = 1 \\text { node (root)} \\\\\n",
        "\\text {Level } 1 \\rightarrow 2^1 = 2 \\text { nodes} \\\\\n",
        "\\text {Level } 2 \\rightarrow 2^2 = 4 \\text { nodes} \\\\\n",
        "\\text {Level } 3 \\rightarrow 2^3 = 8 \\text { nodes} \\\\\n",
        "\\vdots\\\\\n",
        "\\text {Level } k \\rightarrow 2^k  \\text { nodes} \\\\\n",
        "\\end{array}\n",
        "$$\n",
        "\n",
        "nodes, with $l = 0,1,2, ... $ the level\n",
        "\n",
        "Total number of the complte tree with $L=0,1,2,\\cdots , L-1$ levels\n",
        "\n",
        "$$ \n",
        "2^0 + 2^1 + 2^2 + \\cdots +2^{L-1}  = 1 + 2 + 4 + \\cdots +2^{L-1} = \\sum_{k=0}^{L-1} 2^k = \\frac{ 2^{L} - 1}{2 -1} = 2^{L} - 1\n",
        "$$"
      ]
    },
    {
      "cell_type": "markdown",
      "metadata": {
        "id": "YiWlrhLZNMX9"
      },
      "source": [
        "### Code"
      ]
    },
    {
      "cell_type": "code",
      "metadata": {
        "id": "YvMkYU8UNOll",
        "colab": {
          "base_uri": "https://localhost:8080/"
        },
        "outputId": "f518621f-2df7-474e-a0a9-364cb1a18d2a"
      },
      "source": [
        "\n",
        "# Python 3\n",
        "\n",
        "# Code from GeekforGeeks\n",
        "# Checking if a binary tree is a complete binary tree\n",
        "\n",
        "# Python program to check if a binary tree complete or not\n",
        "  \n",
        "# Tree node structure\n",
        "class Node:\n",
        "  \n",
        "    # Contructor to create a new node\n",
        "    def __init__(self, key):\n",
        "        self.key = key\n",
        "        self.left = None \n",
        "        self.right = None \n",
        "  \n",
        "  \n",
        "# This function counts the number of nodes in a binary tree\n",
        "def countNodes(root):\n",
        "    if root is None:\n",
        "        return 0 \n",
        "    return (1+ countNodes(root.left) + countNodes(root.right))\n",
        "  \n",
        "# This function checks if binary tree is complete or not\n",
        "def isComplete(root, index, number_nodes):\n",
        "      \n",
        "    # An empty is complete\n",
        "    if root is None:\n",
        "        return True\n",
        "      \n",
        "    # If index assigned to current nodes is more than\n",
        "    # number of nodes in tree, then tree is not complete\n",
        "    if index >= number_nodes :\n",
        "        return False\n",
        "      \n",
        "    # Recur for left and right subtress\n",
        "    return (isComplete(root.left , 2*index+1 , number_nodes)\n",
        "        and isComplete(root.right, 2*index+2, number_nodes)\n",
        "          )\n",
        "  \n",
        "# Driver Program \n",
        "  \n",
        "root = Node(1)\n",
        "root.left = Node(2)\n",
        "root.right = Node(3)\n",
        "root.left.left = Node(4)\n",
        "root.left.right = Node(5)\n",
        "root.right.right = Node(6) \n",
        "  \n",
        "node_count = countNodes(root)\n",
        "index = 0 \n",
        "  \n",
        "if isComplete(root, index, node_count):\n",
        "    print(\"The Binary Tree is complete\")\n",
        "else:\n",
        "    print(\"The Binary Tree is not complete\")\n",
        "\n",
        "root = Node(1)\n",
        "root.left = Node(2)\n",
        "root.right = Node(3)\n",
        "root.left.left = Node(4)\n",
        "root.left.right = Node(5)\n",
        "root.right.left = Node(6) \n",
        "\n",
        "if isComplete(root, index, node_count):\n",
        "    print(\"The Binary Tree is complete\")\n",
        "else:\n",
        "    print(\"The Binary Tree is not complete\")"
      ],
      "execution_count": null,
      "outputs": [
        {
          "output_type": "stream",
          "text": [
            "The Binary Tree is not complete\n",
            "The Binary Tree is complete\n"
          ],
          "name": "stdout"
        }
      ]
    },
    {
      "cell_type": "markdown",
      "metadata": {
        "id": "Dd3RWDwJe2xD"
      },
      "source": [
        "## Zenon Arrow\n",
        "\n",
        "![](https://raw.githubusercontent.com/gjhernandezp/algorithms/master/Lab7/zeno-paradox-arrow.png)\n",
        "\n",
        "Zeno of Elea lived in the fifth century BC. It is especially known for his mathematical paradoxes. Little is known about his life. The only sources are from the Parmenides of Plato and the writings of the Greek pre-Socratic to the Roman historian Diogenes Laertius.\n",
        "\n",
        "One of the paradoxes, the most famous perhaps concerned that arrow that never reaches its target: it must indeed still browse the moist path has left. If the distance to the target is, for example 100 meters, the arrow must travel 100/2 (half) + 100/4 (a quarter) + 100/8 (the eighth) + 100/16 (the sixteenth) + …. of the distance, and so to infinity. So il put a time infinite and therefore never reach its target.\n",
        "\n",
        "https://leseditionsdeschavonnes.com/2018/10/15/the-paradox-of-achilles-and-the-tortoise/\n",
        "\n",
        "$$ \n",
        "\\lim_{n\\rightarrow \\infty} \\left\\{\\left(\\frac{1}{2}\\right)^0 + \\left(\\frac{1}{2}\\right)^1 +\\left(\\frac{1}{2}\\right)^2 + \\cdots +\\left(\\frac{1}{2}\\right)^{n} \\right\\} = \\lim_{n\\rightarrow \\infty} \\left\\{ 1 +\\frac{1}{2} + \\frac{1}{4} + \\frac{1}{8} + \\cdots +\\frac{1}{2^{n}}\\right\\}  = \\lim_{n\\rightarrow \\infty} \\sum_{k=0}^{n} \\left(\\frac{1}{2}\\right)^k = \\lim_{n\\rightarrow \\infty} \\frac{ 1- \\left(\\frac{1}{2}\\right)^n  }{1 - \\left(\\frac{1}{2}\\right) } = \\frac{ 1}{1 - \\left(\\frac{1}{2}\\right)} = 2\n",
        "$$"
      ]
    },
    {
      "cell_type": "markdown",
      "metadata": {
        "id": "R-J4EekBNPkd"
      },
      "source": [
        "### Code"
      ]
    },
    {
      "cell_type": "code",
      "metadata": {
        "id": "8xdBovY3NEW_",
        "colab": {
          "base_uri": "https://localhost:8080/"
        },
        "outputId": "797f0648-0095-494a-c870-b33fa3be0c50"
      },
      "source": [
        "# Python 3\n",
        "\n",
        "def zenos_paradox(archer_position, target_position, steps):\n",
        "    current = archer_position\n",
        "    print(\"The arrow is released at position \", archer_position)\n",
        "    print(\"It is aimed at postion \", target_position)\n",
        "\n",
        "    #Now we can count the steps, and determine the position.\n",
        "\n",
        "    for step in range(steps):\n",
        "        current = (current + target_position) / 2\n",
        "        print(\"Position of the arrow at step \", step+1, \"is \", current)\n",
        "    return(current)\n",
        "\n",
        "def answer_format():\n",
        "    answer = zenos_paradox(0,100,5)\n",
        "    print(\"The answer is: \", answer)\n",
        "\n",
        "answer_format()"
      ],
      "execution_count": null,
      "outputs": [
        {
          "output_type": "stream",
          "text": [
            "The arrow is released at position  0\n",
            "It is aimed at postion  100\n",
            "Position of the arrow at step  1 is  50.0\n",
            "Position of the arrow at step  2 is  75.0\n",
            "Position of the arrow at step  3 is  87.5\n",
            "Position of the arrow at step  4 is  93.75\n",
            "Position of the arrow at step  5 is  96.875\n",
            "The answer is:  96.875\n"
          ],
          "name": "stdout"
        }
      ]
    },
    {
      "cell_type": "markdown",
      "metadata": {
        "id": "dh2ntBeoNQlN"
      },
      "source": [
        "# Power Sums \n",
        "\n",
        "## Modified from Arithmetic Series -  [Wolfram MathWorld](https://mathworld.wolfram.com/PowerSum.html)\n",
        "\n",
        " There are two kinds of power sums commonly considered. The first is the sum of $p^{th}$ powers of a set of n variables $x_k$,\n",
        " \n",
        "$$ S_p(x_1,...,x_n) = \\sum_{k=1}^n x_k^p $$\n",
        "\n",
        "and the second is the special case $x_k=k$, i.e.,\n",
        "\n",
        "$$ S_p(n) = \\sum_{k=1}^n k^p$$\n",
        "\n",
        "General power sums arise commonly in statistics. For example, k-statistics are most commonly defined in terms of power sums. Power sums are related to symmetric polynomials by the Newton-Girard formulas.\n",
        "\n",
        "The sum of $k$ times the kth power of $x$ is given analytically by\n",
        "\n",
        "$$ \\sum_{k=0}^n kx^k = \\frac{x-(n+1)x^{n+1} + nx^{n+2})}{(x-1)^2} $$\n",
        "\n",
        "Other analytic sums include \n",
        "\n",
        "$$(\\sum_{k=0}^{\\infty}x^k)^P\t=\t(1-x)^{-p}$$\t\n",
        "\n",
        "$$\\hspace{1.5cm} =\t\\frac{1}{(p-1)!} \\sum_{n=0}^{\\infty}\\frac{(n+p-1)!}{n!} x^n\t$$\n",
        "$$\\hspace{1.5cm} =\t\\frac{1}{(p-1)!} \\sum_{n=0}^{\\infty}(n+1)_{p-1}x^n $$\n",
        "\n",
        "for $|x| < 1 $, where $(n)_p$ is a Pochhammer symbol. The finite version has the elegant closed form:\n",
        "\n",
        "$$ \\sum_{k=0}^n x^k)^p = \\frac{1}{(p-1)!} \\sum_{k=0}^{np} \\frac{(n-|n-k|+p-1)!}{(n-|n-k|)!} x^k $$\n",
        "\n",
        "for p=1 and 2. An additional sum is given by \n",
        "\n",
        "$$(\\sum_{n=0}^{\\infty} a_n x^n)^2 = \\sum_{n=0}^{\\infty} a_n^2 x^{2n} +2 \\sum_{n=1; i+j=n; i<j}^{\\infty} a_i a_j x^n. $$ \n",
        "\n",
        "A double series solution for $S_p(n)$ is given by\n",
        "\n",
        "$$S_p(n) = \\sum_{i=1}^p \\sum_{j=0}^{i-1}(-1)^j(i-j)^p \\binom{n+p-i+1}{n-i} \\binom{p+1}{j}$$\n",
        "\n",
        "Computing the sums for $p=1$ , ... , $10$ gives \n",
        "\n",
        "$$\\sum_{k=1}^{n}k\t=\t\\frac{1}{2}(n^2+n)$$\t\n",
        "\n",
        "$$\\sum_{k=1}^{n}k^2\t=\t\\frac{1}{6}(2n^3+3n^2+n)$$\n",
        "\n",
        "$$\\sum_{k=1}^{n}k^3\t=\t\\frac{1}{4}(n^4+2n^3+n^2)$$\t\n",
        "\n",
        "$$\\sum_{k=1}^{n}k^4\t=\t\\frac{1}{30}(6n^5+15n^4+10n^3-n)$$\t\n",
        "\n",
        "$$\\sum_{k=1}^{n}k^5\t=\t\\frac{1}{12}(2n^6+6n^5+5n^4-n^2)$$\t\n",
        "\n",
        "$$\\sum_{k=1}^{n}k^6\t=\t\\frac{1}{42}(6n^7+21n^6+21n^5-7n^3+n)$$\t\n",
        "\n",
        "$$\\sum_{k=1}^{n}k^7\t=\\frac{1}{24}(3n^8+12n^7+14n^6-7n^4+2n^2)$$ \t\n",
        "\n",
        "$$\\sum_{k=1}^{n}k^8\t=\t\\frac{1}{90}(10n^9+45n^8+60n^7-42n^5+20n^3-3n)$$\t\n",
        "\n",
        "$$\\sum_{k=1}^{n}k^9\t=\t\\frac{1}{20}(2n^(10)+10n^9+15n^8-14n^6+10n^4-3n^2)$$\t\n",
        "\n",
        "$$\\sum_{k=1}^{n}k^{10}\t=\t\\frac{1}{66}(6n^{11}+33n^{10}+55n^9-66n^7+66n^5-33n^3+5n)$$\t\n",
        "\n",
        "![imagen.png](data:image/png;base64,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)\n",
        "\n",
        "A simple graphical proof of the special case of $S_1(n) = \\frac{n(n+1)}{2}$ can also be given by constructing a sequence of stacks of boxes, each 1 unit across and $k$ units high, where $k=1, 2, ..., n.$ Now add a rotated copy on top, as in the above figure. Note that the resulting figure has width $n$ and height $n+1$, and so has area $n(n+1)$. The desired sum is half this, so the area of the boxes in the sum is $n(n+1)/2$. Since the boxes are of unit width, this is also the value of the sum.\n",
        "\n",
        "\n",
        "*   https://www.researchgate.net/publication/331933608_The_Powers_Sums_Bernoulli_Numbers_Bernoulli_Polynomials_Rethinked\n",
        "*   https://en.wikipedia.org/wiki/Sums_of_powers\n",
        "\n"
      ]
    },
    {
      "cell_type": "markdown",
      "metadata": {
        "id": "21RVPiQpcI_1"
      },
      "source": [
        "##Code\n",
        "\n",
        " We need count number of ways any given integer x can be expressed as n-th power of unique natural numbers."
      ]
    },
    {
      "cell_type": "code",
      "metadata": {
        "colab": {
          "base_uri": "https://localhost:8080/"
        },
        "id": "DAMnlkmcb8Nu",
        "outputId": "d2a44277-033e-4409-f1c8-4eccb603e973"
      },
      "source": [
        "# Python 3\n",
        "# Code taken from Geek for Geeks\n",
        "\n",
        "# Function to calculate and return the\n",
        "# power of any given number\n",
        " \n",
        " \n",
        "def power(num, n):\n",
        " \n",
        "    if(n == 0):\n",
        "        return 1\n",
        "    elif(n % 2 == 0):\n",
        "        return power(num, n // 2) * power(num, n // 2)\n",
        "    else:\n",
        "        return num * power(num, n // 2) * power(num, n // 2)\n",
        " \n",
        "# Function to check power representations recursively\n",
        " \n",
        " \n",
        "def checkRecursive(x, n, curr_num=1, curr_sum=0):\n",
        " \n",
        "    # Initialize number of ways to express\n",
        "    # x as n-th powers of different natural\n",
        "    # numbers\n",
        "    results = 0\n",
        " \n",
        "    # Calling power of 'i' raised to 'n'\n",
        "    p = power(curr_num, n)\n",
        "    while(p + curr_sum < x):\n",
        " \n",
        "        # Recursively check all greater values of i\n",
        "        results += checkRecursive(x, n, curr_num + 1, p + curr_sum)\n",
        "        curr_num = curr_num + 1\n",
        "        p = power(curr_num, n)\n",
        " \n",
        "    # If sum of powers is equal to x\n",
        "    # then increase the value of result.\n",
        "    if(p + curr_sum == x):\n",
        "        results = results + 1\n",
        " \n",
        "    # Return the final result\n",
        "    return results\n",
        " \n",
        " \n",
        "# Driver Code.\n",
        "if __name__ == '__main__':\n",
        "    x = 2000\n",
        "    n = 2\n",
        "    print(checkRecursive(x, n))"
      ],
      "execution_count": null,
      "outputs": [
        {
          "output_type": "stream",
          "text": [
            "1269\n"
          ],
          "name": "stdout"
        }
      ]
    }
  ]
}